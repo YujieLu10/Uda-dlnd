{
 "cells": [
  {
   "cell_type": "markdown",
   "metadata": {},
   "source": [
    "# TV Script Generation\n",
    "In this project, you'll generate your own [Simpsons](https://en.wikipedia.org/wiki/The_Simpsons) TV scripts using RNNs.  You'll be using part of the [Simpsons dataset](https://www.kaggle.com/wcukierski/the-simpsons-by-the-data) of scripts from 27 seasons.  The Neural Network you'll build will generate a new TV script for a scene at [Moe's Tavern](https://simpsonswiki.com/wiki/Moe's_Tavern).\n",
    "## Get the Data\n",
    "The data is already provided for you.  You'll be using a subset of the original dataset.  It consists of only the scenes in Moe's Tavern.  This doesn't include other versions of the tavern, like \"Moe's Cavern\", \"Flaming Moe's\", \"Uncle Moe's Family Feed-Bag\", etc.."
   ]
  },
  {
   "cell_type": "code",
   "execution_count": 1,
   "metadata": {
    "collapsed": true
   },
   "outputs": [],
   "source": [
    "\"\"\"\n",
    "DON'T MODIFY ANYTHING IN THIS CELL\n",
    "\"\"\"\n",
    "import helper\n",
    "\n",
    "data_dir = './data/simpsons/moes_tavern_lines.txt'\n",
    "text = helper.load_data(data_dir)\n",
    "# Ignore notice, since we don't use it for analysing the data\n",
    "text = text[81:]"
   ]
  },
  {
   "cell_type": "markdown",
   "metadata": {},
   "source": [
    "## Explore the Data\n",
    "Play around with `view_sentence_range` to view different parts of the data."
   ]
  },
  {
   "cell_type": "code",
   "execution_count": 2,
   "metadata": {},
   "outputs": [
    {
     "name": "stdout",
     "output_type": "stream",
     "text": [
      "Dataset Stats\n",
      "Roughly the number of unique words: 11492\n",
      "Number of scenes: 262\n",
      "Average number of sentences in each scene: 15.2519083969\n",
      "Number of lines: 4258\n",
      "Average number of words in each line: 11.5016439643\n",
      "()\n",
      "The sentences 0 to 10:\n",
      "\n",
      "Moe_Szyslak: (INTO PHONE) Moe's Tavern. Where the elite meet to drink.\n",
      "Bart_Simpson: Eh, yeah, hello, is Mike there? Last name, Rotch.\n",
      "Moe_Szyslak: (INTO PHONE) Hold on, I'll check. (TO BARFLIES) Mike Rotch. Mike Rotch. Hey, has anybody seen Mike Rotch, lately?\n",
      "Moe_Szyslak: (INTO PHONE) Listen you little puke. One of these days I'm gonna catch you, and I'm gonna carve my name on your back with an ice pick.\n",
      "Moe_Szyslak: What's the matter Homer? You're not your normal effervescent self.\n",
      "Homer_Simpson: I got my problems, Moe. Give me another one.\n",
      "Moe_Szyslak: Homer, hey, you should not drink to forget your problems.\n",
      "Barney_Gumble: Yeah, you should only drink to enhance your social skills.\n",
      "\n"
     ]
    }
   ],
   "source": [
    "view_sentence_range = (0, 10)\n",
    "\n",
    "\"\"\"\n",
    "DON'T MODIFY ANYTHING IN THIS CELL\n",
    "\"\"\"\n",
    "import numpy as np\n",
    "\n",
    "print('Dataset Stats')\n",
    "print('Roughly the number of unique words: {}'.format(len({word: None for word in text.split()})))\n",
    "scenes = text.split('\\n\\n')\n",
    "print('Number of scenes: {}'.format(len(scenes)))\n",
    "sentence_count_scene = [scene.count('\\n') for scene in scenes]\n",
    "print('Average number of sentences in each scene: {}'.format(np.average(sentence_count_scene)))\n",
    "\n",
    "sentences = [sentence for scene in scenes for sentence in scene.split('\\n')]\n",
    "print('Number of lines: {}'.format(len(sentences)))\n",
    "word_count_sentence = [len(sentence.split()) for sentence in sentences]\n",
    "print('Average number of words in each line: {}'.format(np.average(word_count_sentence)))\n",
    "\n",
    "print()\n",
    "print('The sentences {} to {}:'.format(*view_sentence_range))\n",
    "print('\\n'.join(text.split('\\n')[view_sentence_range[0]:view_sentence_range[1]]))"
   ]
  },
  {
   "cell_type": "markdown",
   "metadata": {},
   "source": [
    "## Implement Preprocessing Functions\n",
    "The first thing to do to any dataset is preprocessing.  Implement the following preprocessing functions below:\n",
    "- Lookup Table\n",
    "- Tokenize Punctuation\n",
    "\n",
    "### Lookup Table\n",
    "To create a word embedding, you first need to transform the words to ids.  In this function, create two dictionaries:\n",
    "- Dictionary to go from the words to an id, we'll call `vocab_to_int`\n",
    "- Dictionary to go from the id to word, we'll call `int_to_vocab`\n",
    "\n",
    "Return these dictionaries in the following tuple `(vocab_to_int, int_to_vocab)`"
   ]
  },
  {
   "cell_type": "code",
   "execution_count": 3,
   "metadata": {},
   "outputs": [
    {
     "name": "stdout",
     "output_type": "stream",
     "text": [
      "Tests Passed\n"
     ]
    }
   ],
   "source": [
    "import numpy as np\n",
    "import problem_unittests as tests\n",
    "\n",
    "def create_lookup_tables(text):\n",
    "    \"\"\"\n",
    "    Create lookup tables for vocabulary\n",
    "    :param text: The text of tv scripts split into words\n",
    "    :return: A tuple of dicts (vocab_to_int, int_to_vocab)\n",
    "    \"\"\"\n",
    "    vocab = set(text)\n",
    "    vocab_to_int = {w: i for i, w in enumerate(vocab)}\n",
    "    int_to_vocab = dict(enumerate(vocab))\n",
    "    return (vocab_to_int, int_to_vocab)\n",
    "\n",
    "\n",
    "\"\"\"\n",
    "DON'T MODIFY ANYTHING IN THIS CELL THAT IS BELOW THIS LINE\n",
    "\"\"\"\n",
    "tests.test_create_lookup_tables(create_lookup_tables)"
   ]
  },
  {
   "cell_type": "markdown",
   "metadata": {},
   "source": [
    "### Tokenize Punctuation\n",
    "We'll be splitting the script into a word array using spaces as delimiters.  However, punctuations like periods and exclamation marks make it hard for the neural network to distinguish between the word \"bye\" and \"bye!\".\n",
    "\n",
    "Implement the function `token_lookup` to return a dict that will be used to tokenize symbols like \"!\" into \"||Exclamation_Mark||\".  Create a dictionary for the following symbols where the symbol is the key and value is the token:\n",
    "- Period ( . )\n",
    "- Comma ( , )\n",
    "- Quotation Mark ( \" )\n",
    "- Semicolon ( ; )\n",
    "- Exclamation mark ( ! )\n",
    "- Question mark ( ? )\n",
    "- Left Parentheses ( ( )\n",
    "- Right Parentheses ( ) )\n",
    "- Dash ( -- )\n",
    "- Return ( \\n )\n",
    "\n",
    "This dictionary will be used to token the symbols and add the delimiter (space) around it.  This separates the symbols as it's own word, making it easier for the neural network to predict on the next word. Make sure you don't use a token that could be confused as a word. Instead of using the token \"dash\", try using something like \"||dash||\"."
   ]
  },
  {
   "cell_type": "code",
   "execution_count": 17,
   "metadata": {},
   "outputs": [
    {
     "name": "stdout",
     "output_type": "stream",
     "text": [
      "Tests Passed\n"
     ]
    }
   ],
   "source": [
    "def token_lookup():\n",
    "    \"\"\"\n",
    "    Generate a dict to turn punctuation into a token.\n",
    "    :return: Tokenize dictionary where the key is the punctuation and the value is the token\n",
    "    \"\"\"\n",
    "\n",
    "    keys = ['.', ',', '\"', ';', '!', '?', '(',')', '--', '\\n']\n",
    "    values = ['||Period||', '||Comma||', '||Quotation_Mark||', '||Semicolon||', '||Exclamation_Mark||',\n",
    "              '||Question_Mark||', '||Left_Parentheses||', '||Right_Parentheses||', '||Dash||',\n",
    "              '||Return||']     \n",
    "    return dict(zip(keys, values))\n",
    "\n",
    "\"\"\"\n",
    "DON'T MODIFY ANYTHING IN THIS CELL THAT IS BELOW THIS LINE\n",
    "\"\"\"\n",
    "tests.test_tokenize(token_lookup)"
   ]
  },
  {
   "cell_type": "markdown",
   "metadata": {},
   "source": [
    "## Preprocess all the data and save it\n",
    "Running the code cell below will preprocess all the data and save it to file."
   ]
  },
  {
   "cell_type": "code",
   "execution_count": 18,
   "metadata": {
    "collapsed": true
   },
   "outputs": [],
   "source": [
    "\"\"\"\n",
    "DON'T MODIFY ANYTHING IN THIS CELL\n",
    "\"\"\"\n",
    "# Preprocess Training, Validation, and Testing Data\n",
    "helper.preprocess_and_save_data(data_dir, token_lookup, create_lookup_tables)"
   ]
  },
  {
   "cell_type": "markdown",
   "metadata": {},
   "source": [
    "# Check Point\n",
    "This is your first checkpoint. If you ever decide to come back to this notebook or have to restart the notebook, you can start from here. The preprocessed data has been saved to disk."
   ]
  },
  {
   "cell_type": "code",
   "execution_count": 19,
   "metadata": {
    "collapsed": true
   },
   "outputs": [],
   "source": [
    "\"\"\"\n",
    "DON'T MODIFY ANYTHING IN THIS CELL\n",
    "\"\"\"\n",
    "import helper\n",
    "import numpy as np\n",
    "import problem_unittests as tests\n",
    "\n",
    "int_text, vocab_to_int, int_to_vocab, token_dict = helper.load_preprocess()"
   ]
  },
  {
   "cell_type": "markdown",
   "metadata": {},
   "source": [
    "## Build the Neural Network\n",
    "You'll build the components necessary to build a RNN by implementing the following functions below:\n",
    "- get_inputs\n",
    "- get_init_cell\n",
    "- get_embed\n",
    "- build_rnn\n",
    "- build_nn\n",
    "- get_batches\n",
    "\n",
    "### Check the Version of TensorFlow and Access to GPU"
   ]
  },
  {
   "cell_type": "code",
   "execution_count": 20,
   "metadata": {},
   "outputs": [
    {
     "name": "stdout",
     "output_type": "stream",
     "text": [
      "1.0.0\n",
      "TensorFlow Version: 1.0.0\n"
     ]
    },
    {
     "name": "stderr",
     "output_type": "stream",
     "text": [
      "/Library/Frameworks/Python.framework/Versions/2.7/lib/python2.7/site-packages/ipykernel/__main__.py:14: UserWarning: No GPU found. Please use a GPU to train your neural network.\n"
     ]
    }
   ],
   "source": [
    "\"\"\"\n",
    "DON'T MODIFY ANYTHING IN THIS CELL\n",
    "\"\"\"\n",
    "from distutils.version import LooseVersion\n",
    "import warnings\n",
    "import tensorflow as tf\n",
    "print(tf.__version__)\n",
    "# Check TensorFlow Version\n",
    "assert LooseVersion(tf.__version__) >= LooseVersion('1.0'), 'Please use TensorFlow version 1.0 or newer'\n",
    "print('TensorFlow Version: {}'.format(tf.__version__))\n",
    "\n",
    "# Check for a GPU\n",
    "if not tf.test.gpu_device_name():\n",
    "    warnings.warn('No GPU found. Please use a GPU to train your neural network.')\n",
    "else:\n",
    "    print('Default GPU Device: {}'.format(tf.test.gpu_device_name()))"
   ]
  },
  {
   "cell_type": "markdown",
   "metadata": {},
   "source": [
    "### Input\n",
    "Implement the `get_inputs()` function to create TF Placeholders for the Neural Network.  It should create the following placeholders:\n",
    "- Input text placeholder named \"input\" using the [TF Placeholder](https://www.tensorflow.org/api_docs/python/tf/placeholder) `name` parameter.\n",
    "- Targets placeholder\n",
    "- Learning Rate placeholder\n",
    "\n",
    "Return the placeholders in the following the tuple `(Input, Targets, LearingRate)`"
   ]
  },
  {
   "cell_type": "code",
   "execution_count": 21,
   "metadata": {},
   "outputs": [
    {
     "name": "stdout",
     "output_type": "stream",
     "text": [
      "Tests Passed\n"
     ]
    }
   ],
   "source": [
    "def get_inputs():\n",
    "    \"\"\"\n",
    "    Create TF Placeholders for input, targets, and learning rate.\n",
    "    :return: Tuple (input, targets, learning rate)\n",
    "    \"\"\"\n",
    "    inputs = tf.placeholder(tf.int32, [None, None], name='input')\n",
    "    targets = tf.placeholder(tf.int32, [None, None], name='targets')\n",
    "    learning_rate = tf.placeholder(tf.float32, name='learning_rate')\n",
    "    return inputs, targets, learning_rate\n",
    "\n",
    "\n",
    "\"\"\"\n",
    "DON'T MODIFY ANYTHING IN THIS CELL THAT IS BELOW THIS LINE\n",
    "\"\"\"\n",
    "tests.test_get_inputs(get_inputs)"
   ]
  },
  {
   "cell_type": "markdown",
   "metadata": {},
   "source": [
    "### Build RNN Cell and Initialize\n",
    "Stack one or more [`BasicLSTMCells`](https://www.tensorflow.org/api_docs/python/tf/contrib/rnn/BasicLSTMCell) in a [`MultiRNNCell`](https://www.tensorflow.org/api_docs/python/tf/contrib/rnn/MultiRNNCell).\n",
    "- The Rnn size should be set using `rnn_size`\n",
    "- Initalize Cell State using the MultiRNNCell's [`zero_state()`](https://www.tensorflow.org/api_docs/python/tf/contrib/rnn/MultiRNNCell#zero_state) function\n",
    "    - Apply the name \"initial_state\" to the initial state using [`tf.identity()`](https://www.tensorflow.org/api_docs/python/tf/identity)\n",
    "\n",
    "Return the cell and initial state in the following tuple `(Cell, InitialState)`"
   ]
  },
  {
   "cell_type": "code",
   "execution_count": 22,
   "metadata": {},
   "outputs": [
    {
     "name": "stdout",
     "output_type": "stream",
     "text": [
      "Tests Passed\n"
     ]
    }
   ],
   "source": [
    "def get_init_cell(batch_size, rnn_size):\n",
    "    \"\"\"\n",
    "    Create an RNN Cell and initialize it.\n",
    "    :param batch_size: Size of batches\n",
    "    :param rnn_size: Size of RNNs\n",
    "    :return: Tuple (cell, initialize state)\n",
    "    \"\"\"\n",
    "    \n",
    "    lstm = tf.contrib.rnn.BasicLSTMCell(rnn_size)\n",
    "    cell = tf.contrib.rnn.MultiRNNCell([lstm])\n",
    "    #cell = tf.contrib.rnn.MultiRNNCell([tf.contrib.rnn.DropoutWrapper(tf.contrib.rnn.BasicLSTMCell(rnn_size), output_keep_prob=0.5) \n",
    "                                   # for _ in range(rnn_size)])\n",
    "    initial_state = cell.zero_state(batch_size, tf.float32)\n",
    "    initial_state = tf.identity(initial_state, name='initial_state')\n",
    "    return cell, initial_state\n",
    "\n",
    "\n",
    "\"\"\"\n",
    "DON'T MODIFY ANYTHING IN THIS CELL THAT IS BELOW THIS LINE\n",
    "\"\"\"\n",
    "tests.test_get_init_cell(get_init_cell)"
   ]
  },
  {
   "cell_type": "markdown",
   "metadata": {},
   "source": [
    "### Word Embedding\n",
    "Apply embedding to `input_data` using TensorFlow.  Return the embedded sequence."
   ]
  },
  {
   "cell_type": "code",
   "execution_count": 23,
   "metadata": {},
   "outputs": [
    {
     "name": "stdout",
     "output_type": "stream",
     "text": [
      "Tests Passed\n"
     ]
    }
   ],
   "source": [
    "def get_embed(input_data, vocab_size, embed_dim):\n",
    "    \"\"\"\n",
    "    Create embedding for <input_data>.\n",
    "    :param input_data: TF placeholder for text input.\n",
    "    :param vocab_size: Number of words in vocabulary.\n",
    "    :param embed_dim: Number of embedding dimensions\n",
    "    :return: Embedded input.\n",
    "    \"\"\"\n",
    "    embedding = tf.Variable(tf.random_uniform((vocab_size, embed_dim), -1, 1))\n",
    "    embed = tf.nn.embedding_lookup(embedding, input_data)\n",
    "    return embed\n",
    "\n",
    "\n",
    "\"\"\"\n",
    "DON'T MODIFY ANYTHING IN THIS CELL THAT IS BELOW THIS LINE\n",
    "\"\"\"\n",
    "tests.test_get_embed(get_embed)"
   ]
  },
  {
   "cell_type": "markdown",
   "metadata": {},
   "source": [
    "### Build RNN\n",
    "You created a RNN Cell in the `get_init_cell()` function.  Time to use the cell to create a RNN.\n",
    "- Build the RNN using the [`tf.nn.dynamic_rnn()`](https://www.tensorflow.org/api_docs/python/tf/nn/dynamic_rnn)\n",
    " - Apply the name \"final_state\" to the final state using [`tf.identity()`](https://www.tensorflow.org/api_docs/python/tf/identity)\n",
    "\n",
    "Return the outputs and final_state state in the following tuple `(Outputs, FinalState)` "
   ]
  },
  {
   "cell_type": "markdown",
   "metadata": {},
   "source": [
    "### Build the Neural Network\n",
    "Apply the functions you implemented above to:\n",
    "- Apply embedding to `input_data` using your `get_embed(input_data, vocab_size, embed_dim)` function.\n",
    "- Build RNN using `cell` and your `build_rnn(cell, inputs)` function.\n",
    "- Apply a fully connected layer with a linear activation and `vocab_size` as the number of outputs.\n",
    "\n",
    "Return the logits and final state in the following tuple (Logits, FinalState) "
   ]
  },
  {
   "cell_type": "code",
   "execution_count": 24,
   "metadata": {},
   "outputs": [
    {
     "name": "stdout",
     "output_type": "stream",
     "text": [
      "Tests Passed\n"
     ]
    }
   ],
   "source": [
    "def build_rnn(cell, inputs):\n",
    "    \"\"\"\n",
    "    Create a RNN using a RNN Cell\n",
    "    :param cell: RNN Cell\n",
    "    :param inputs: Input text data\n",
    "    :return: Tuple (Outputs, Final State)\n",
    "    \"\"\"\n",
    "    outputs, final_state = tf.nn.dynamic_rnn(cell, inputs, dtype=tf.float32)\n",
    "    final_state = tf.identity(final_state, name='final_state')\n",
    "    return outputs, final_state\n",
    "\n",
    "\n",
    "\"\"\"\n",
    "DON'T MODIFY ANYTHING IN THIS CELL THAT IS BELOW THIS LINE\n",
    "\"\"\"\n",
    "tests.test_build_rnn(build_rnn)"
   ]
  },
  {
   "cell_type": "code",
   "execution_count": 25,
   "metadata": {},
   "outputs": [
    {
     "name": "stdout",
     "output_type": "stream",
     "text": [
      "Tests Passed\n"
     ]
    }
   ],
   "source": [
    "def build_nn(cell, rnn_size, input_data, vocab_size, embed_dim):\n",
    "    \"\"\"\n",
    "    Build part of the neural network\n",
    "    :param cell: RNN cell\n",
    "    :param rnn_size: Size of rnns\n",
    "    :param input_data: Input data\n",
    "    :param vocab_size: Vocabulary size\n",
    "    :return: Tuple (Logits, FinalState)\n",
    "    \"\"\"\n",
    "    embedding = get_embed(input_data, vocab_size, rnn_size)\n",
    "    outputs, final_state = build_rnn(cell, embedding)\n",
    "    logits = tf.contrib.layers.fully_connected(outputs, vocab_size, \n",
    "       weights_initializer=tf.truncated_normal_initializer(stddev=0.1),\n",
    "       biases_initializer=tf.zeros_initializer(),\n",
    "       activation_fn=None,\n",
    "    )\n",
    "    return logits, final_state\n",
    "\n",
    "\n",
    "\"\"\"\n",
    "DON'T MODIFY ANYTHING IN THIS CELL THAT IS BELOW THIS LINE\n",
    "\"\"\"\n",
    "tests.test_build_nn(build_nn)"
   ]
  },
  {
   "cell_type": "markdown",
   "metadata": {},
   "source": [
    "### Batches\n",
    "Implement `get_batches` to create batches of input and targets using `int_text`.  The batches should be a Numpy array with the shape `(number of batches, 2, batch size, sequence length)`. Each batch contains two elements:\n",
    "- The first element is a single batch of **input** with the shape `[batch size, sequence length]`\n",
    "- The second element is a single batch of **targets** with the shape `[batch size, sequence length]`\n",
    "\n",
    "If you can't fill the last batch with enough data, drop the last batch.\n",
    "\n",
    "For exmple, `get_batches([1, 2, 3, 4, 5, 6, 7, 8, 9, 10, 11, 12, 13, 14, 15], 2, 3)` would return a Numpy array of the following:\n",
    "```\n",
    "[\n",
    "  # First Batch\n",
    "  [\n",
    "    # Batch of Input\n",
    "    [[ 1  2  3], [ 7  8  9]],\n",
    "    # Batch of targets\n",
    "    [[ 2  3  4], [ 8  9 10]]\n",
    "  ],\n",
    " \n",
    "  # Second Batch\n",
    "  [\n",
    "    # Batch of Input\n",
    "    [[ 4  5  6], [10 11 12]],\n",
    "    # Batch of targets\n",
    "    [[ 5  6  7], [11 12 13]]\n",
    "  ]\n",
    "]\n",
    "```"
   ]
  },
  {
   "cell_type": "code",
   "execution_count": 27,
   "metadata": {},
   "outputs": [
    {
     "name": "stdout",
     "output_type": "stream",
     "text": [
      "Tests Passed\n"
     ]
    }
   ],
   "source": [
    "def get_batches(int_text, batch_size, seq_length):\n",
    "    \"\"\"\n",
    "    Return batches of input and target\n",
    "    :param int_text: Text with the words replaced by their ids\n",
    "    :param batch_size: The size of batch\n",
    "    :param seq_length: The length of sequence\n",
    "    :return: Batches as a Numpy array\n",
    "    \"\"\"\n",
    "    n_batches = int(len(int_text) / (batch_size * seq_length))\n",
    "    xdata = np.array(int_text[: n_batches * batch_size * seq_length])\n",
    "    ydata = np.array(int_text[1: n_batches * batch_size * seq_length + 1])\n",
    "    ydata = np.roll(xdata,-1)\n",
    "    x_batches = np.split(xdata.reshape(batch_size, -1), n_batches, 1)\n",
    "    y_batches = np.split(ydata.reshape(batch_size, -1), n_batches, 1)\n",
    "    return np.asarray(list(zip(x_batches, y_batches)))\n",
    "\n",
    "\n",
    "\"\"\"\n",
    "DON'T MODIFY ANYTHING IN THIS CELL THAT IS BELOW THIS LINE\n",
    "\"\"\"\n",
    "tests.test_get_batches(get_batches)"
   ]
  },
  {
   "cell_type": "markdown",
   "metadata": {},
   "source": [
    "## Neural Network Training\n",
    "### Hyperparameters\n",
    "Tune the following parameters:\n",
    "\n",
    "- Set `num_epochs` to the number of epochs.\n",
    "- Set `batch_size` to the batch size.\n",
    "- Set `rnn_size` to the size of the RNNs.\n",
    "- Set `seq_length` to the length of sequence.\n",
    "- Set `learning_rate` to the learning rate.\n",
    "- Set `show_every_n_batches` to the number of batches the neural network should print progress."
   ]
  },
  {
   "cell_type": "code",
   "execution_count": 28,
   "metadata": {
    "collapsed": true
   },
   "outputs": [],
   "source": [
    "# Number of Epochs\n",
    "num_epochs = 150\n",
    "# Batch Size\n",
    "batch_size = 256\n",
    "# RNN Size\n",
    "rnn_size = 256\n",
    "# Sequence Length\n",
    "seq_length = 50\n",
    "# Learning Rate\n",
    "learning_rate = 0.01\n",
    "# Show stats for every n number of batches\n",
    "show_every_n_batches = 2\n",
    "\n",
    "\"\"\"\n",
    "DON'T MODIFY ANYTHING IN THIS CELL THAT IS BELOW THIS LINE\n",
    "\"\"\"\n",
    "save_dir = './save'"
   ]
  },
  {
   "cell_type": "markdown",
   "metadata": {},
   "source": [
    "### Build the Graph\n",
    "Build the graph using the neural network you implemented."
   ]
  },
  {
   "cell_type": "code",
   "execution_count": 32,
   "metadata": {},
   "outputs": [],
   "source": [
    "\"\"\"\n",
    "DON'T MODIFY ANYTHING IN THIS CELL\n",
    "\"\"\"\n",
    "from tensorflow.contrib import seq2seq\n",
    "\n",
    "train_graph = tf.Graph()\n",
    "with train_graph.as_default():\n",
    "    vocab_size = len(int_to_vocab)\n",
    "    input_text, targets, lr = get_inputs()\n",
    "    input_data_shape = tf.shape(input_text)\n",
    "    cell, initial_state = get_init_cell(input_data_shape[0], rnn_size)\n",
    "    logits, final_state = build_nn(cell, rnn_size, input_text, vocab_size,300)\n",
    "\n",
    "    # Probabilities for generating words\n",
    "    probs = tf.nn.softmax(logits, name='probs')\n",
    "\n",
    "    # Loss function\n",
    "    cost = seq2seq.sequence_loss(\n",
    "        logits,\n",
    "        targets,\n",
    "        tf.ones([input_data_shape[0], input_data_shape[1]]))\n",
    "\n",
    "    # Optimizer\n",
    "    optimizer = tf.train.AdamOptimizer(lr)\n",
    "\n",
    "    # Gradient Clipping\n",
    "    gradients = optimizer.compute_gradients(cost)\n",
    "    capped_gradients = [(tf.clip_by_value(grad, -1., 1.), var) for grad, var in gradients]\n",
    "    train_op = optimizer.apply_gradients(capped_gradients)"
   ]
  },
  {
   "cell_type": "markdown",
   "metadata": {},
   "source": [
    "## Train\n",
    "Train the neural network on the preprocessed data.  If you have a hard time getting a good loss, check the [forms](https://discussions.udacity.com/) to see if anyone is having the same problem."
   ]
  },
  {
   "cell_type": "code",
   "execution_count": 33,
   "metadata": {},
   "outputs": [
    {
     "name": "stdout",
     "output_type": "stream",
     "text": [
      "Epoch   0 Batch    0/5   train_loss = 8.825\n",
      "Epoch   0 Batch    2/5   train_loss = 6.634\n",
      "Epoch   0 Batch    4/5   train_loss = 6.073\n",
      "Epoch   1 Batch    1/5   train_loss = 5.935\n",
      "Epoch   1 Batch    3/5   train_loss = 5.550\n",
      "Epoch   2 Batch    0/5   train_loss = 5.414\n",
      "Epoch   2 Batch    2/5   train_loss = 5.209\n",
      "Epoch   2 Batch    4/5   train_loss = 5.104\n",
      "Epoch   3 Batch    1/5   train_loss = 5.037\n",
      "Epoch   3 Batch    3/5   train_loss = 4.898\n",
      "Epoch   4 Batch    0/5   train_loss = 4.780\n",
      "Epoch   4 Batch    2/5   train_loss = 4.635\n",
      "Epoch   4 Batch    4/5   train_loss = 4.559\n",
      "Epoch   5 Batch    1/5   train_loss = 4.486\n",
      "Epoch   5 Batch    3/5   train_loss = 4.368\n",
      "Epoch   6 Batch    0/5   train_loss = 4.282\n",
      "Epoch   6 Batch    2/5   train_loss = 4.144\n",
      "Epoch   6 Batch    4/5   train_loss = 4.088\n",
      "Epoch   7 Batch    1/5   train_loss = 4.020\n",
      "Epoch   7 Batch    3/5   train_loss = 3.908\n",
      "Epoch   8 Batch    0/5   train_loss = 3.818\n",
      "Epoch   8 Batch    2/5   train_loss = 3.702\n",
      "Epoch   8 Batch    4/5   train_loss = 3.643\n",
      "Epoch   9 Batch    1/5   train_loss = 3.559\n",
      "Epoch   9 Batch    3/5   train_loss = 3.472\n",
      "Epoch  10 Batch    0/5   train_loss = 3.376\n",
      "Epoch  10 Batch    2/5   train_loss = 3.283\n",
      "Epoch  10 Batch    4/5   train_loss = 3.225\n",
      "Epoch  11 Batch    1/5   train_loss = 3.144\n",
      "Epoch  11 Batch    3/5   train_loss = 3.072\n",
      "Epoch  12 Batch    0/5   train_loss = 2.995\n",
      "Epoch  12 Batch    2/5   train_loss = 2.955\n",
      "Epoch  12 Batch    4/5   train_loss = 2.889\n",
      "Epoch  13 Batch    1/5   train_loss = 2.845\n",
      "Epoch  13 Batch    3/5   train_loss = 2.775\n",
      "Epoch  14 Batch    0/5   train_loss = 2.717\n",
      "Epoch  14 Batch    2/5   train_loss = 2.695\n",
      "Epoch  14 Batch    4/5   train_loss = 2.600\n",
      "Epoch  15 Batch    1/5   train_loss = 2.566\n",
      "Epoch  15 Batch    3/5   train_loss = 2.489\n",
      "Epoch  16 Batch    0/5   train_loss = 2.432\n",
      "Epoch  16 Batch    2/5   train_loss = 2.400\n",
      "Epoch  16 Batch    4/5   train_loss = 2.327\n",
      "Epoch  17 Batch    1/5   train_loss = 2.264\n",
      "Epoch  17 Batch    3/5   train_loss = 2.222\n",
      "Epoch  18 Batch    0/5   train_loss = 2.160\n",
      "Epoch  18 Batch    2/5   train_loss = 2.135\n",
      "Epoch  18 Batch    4/5   train_loss = 2.098\n",
      "Epoch  19 Batch    1/5   train_loss = 2.017\n",
      "Epoch  19 Batch    3/5   train_loss = 2.006\n",
      "Epoch  20 Batch    0/5   train_loss = 1.966\n",
      "Epoch  20 Batch    2/5   train_loss = 1.934\n",
      "Epoch  20 Batch    4/5   train_loss = 1.899\n",
      "Epoch  21 Batch    1/5   train_loss = 1.841\n",
      "Epoch  21 Batch    3/5   train_loss = 1.814\n",
      "Epoch  22 Batch    0/5   train_loss = 1.757\n",
      "Epoch  22 Batch    2/5   train_loss = 1.754\n",
      "Epoch  22 Batch    4/5   train_loss = 1.688\n",
      "Epoch  23 Batch    1/5   train_loss = 1.636\n",
      "Epoch  23 Batch    3/5   train_loss = 1.628\n",
      "Epoch  24 Batch    0/5   train_loss = 1.571\n",
      "Epoch  24 Batch    2/5   train_loss = 1.570\n",
      "Epoch  24 Batch    4/5   train_loss = 1.535\n",
      "Epoch  25 Batch    1/5   train_loss = 1.468\n",
      "Epoch  25 Batch    3/5   train_loss = 1.469\n",
      "Epoch  26 Batch    0/5   train_loss = 1.436\n",
      "Epoch  26 Batch    2/5   train_loss = 1.437\n",
      "Epoch  26 Batch    4/5   train_loss = 1.401\n",
      "Epoch  27 Batch    1/5   train_loss = 1.355\n",
      "Epoch  27 Batch    3/5   train_loss = 1.363\n",
      "Epoch  28 Batch    0/5   train_loss = 1.319\n",
      "Epoch  28 Batch    2/5   train_loss = 1.326\n",
      "Epoch  28 Batch    4/5   train_loss = 1.282\n",
      "Epoch  29 Batch    1/5   train_loss = 1.227\n",
      "Epoch  29 Batch    3/5   train_loss = 1.213\n",
      "Epoch  30 Batch    0/5   train_loss = 1.178\n",
      "Epoch  30 Batch    2/5   train_loss = 1.178\n",
      "Epoch  30 Batch    4/5   train_loss = 1.127\n",
      "Epoch  31 Batch    1/5   train_loss = 1.094\n",
      "Epoch  31 Batch    3/5   train_loss = 1.087\n",
      "Epoch  32 Batch    0/5   train_loss = 1.047\n",
      "Epoch  32 Batch    2/5   train_loss = 1.066\n",
      "Epoch  32 Batch    4/5   train_loss = 1.021\n",
      "Epoch  33 Batch    1/5   train_loss = 0.978\n",
      "Epoch  33 Batch    3/5   train_loss = 0.993\n",
      "Epoch  34 Batch    0/5   train_loss = 0.945\n",
      "Epoch  34 Batch    2/5   train_loss = 0.967\n",
      "Epoch  34 Batch    4/5   train_loss = 0.936\n",
      "Epoch  35 Batch    1/5   train_loss = 0.889\n",
      "Epoch  35 Batch    3/5   train_loss = 0.901\n",
      "Epoch  36 Batch    0/5   train_loss = 0.860\n",
      "Epoch  36 Batch    2/5   train_loss = 0.870\n",
      "Epoch  36 Batch    4/5   train_loss = 0.836\n",
      "Epoch  37 Batch    1/5   train_loss = 0.800\n",
      "Epoch  37 Batch    3/5   train_loss = 0.804\n",
      "Epoch  38 Batch    0/5   train_loss = 0.788\n",
      "Epoch  38 Batch    2/5   train_loss = 0.787\n",
      "Epoch  38 Batch    4/5   train_loss = 0.769\n",
      "Epoch  39 Batch    1/5   train_loss = 0.728\n",
      "Epoch  39 Batch    3/5   train_loss = 0.744\n",
      "Epoch  40 Batch    0/5   train_loss = 0.711\n",
      "Epoch  40 Batch    2/5   train_loss = 0.728\n",
      "Epoch  40 Batch    4/5   train_loss = 0.699\n",
      "Epoch  41 Batch    1/5   train_loss = 0.657\n",
      "Epoch  41 Batch    3/5   train_loss = 0.687\n",
      "Epoch  42 Batch    0/5   train_loss = 0.661\n",
      "Epoch  42 Batch    2/5   train_loss = 0.668\n",
      "Epoch  42 Batch    4/5   train_loss = 0.646\n",
      "Epoch  43 Batch    1/5   train_loss = 0.618\n",
      "Epoch  43 Batch    3/5   train_loss = 0.631\n",
      "Epoch  44 Batch    0/5   train_loss = 0.607\n",
      "Epoch  44 Batch    2/5   train_loss = 0.642\n",
      "Epoch  44 Batch    4/5   train_loss = 0.581\n",
      "Epoch  45 Batch    1/5   train_loss = 0.576\n",
      "Epoch  45 Batch    3/5   train_loss = 0.586\n",
      "Epoch  46 Batch    0/5   train_loss = 0.543\n",
      "Epoch  46 Batch    2/5   train_loss = 0.575\n",
      "Epoch  46 Batch    4/5   train_loss = 0.526\n",
      "Epoch  47 Batch    1/5   train_loss = 0.504\n",
      "Epoch  47 Batch    3/5   train_loss = 0.515\n",
      "Epoch  48 Batch    0/5   train_loss = 0.492\n",
      "Epoch  48 Batch    2/5   train_loss = 0.495\n",
      "Epoch  48 Batch    4/5   train_loss = 0.477\n",
      "Epoch  49 Batch    1/5   train_loss = 0.442\n",
      "Epoch  49 Batch    3/5   train_loss = 0.460\n",
      "Epoch  50 Batch    0/5   train_loss = 0.440\n",
      "Epoch  50 Batch    2/5   train_loss = 0.447\n",
      "Epoch  50 Batch    4/5   train_loss = 0.437\n",
      "Epoch  51 Batch    1/5   train_loss = 0.398\n",
      "Epoch  51 Batch    3/5   train_loss = 0.426\n",
      "Epoch  52 Batch    0/5   train_loss = 0.399\n",
      "Epoch  52 Batch    2/5   train_loss = 0.412\n",
      "Epoch  52 Batch    4/5   train_loss = 0.394\n",
      "Epoch  53 Batch    1/5   train_loss = 0.370\n",
      "Epoch  53 Batch    3/5   train_loss = 0.385\n",
      "Epoch  54 Batch    0/5   train_loss = 0.363\n",
      "Epoch  54 Batch    2/5   train_loss = 0.382\n",
      "Epoch  54 Batch    4/5   train_loss = 0.358\n",
      "Epoch  55 Batch    1/5   train_loss = 0.335\n",
      "Epoch  55 Batch    3/5   train_loss = 0.351\n",
      "Epoch  56 Batch    0/5   train_loss = 0.329\n",
      "Epoch  56 Batch    2/5   train_loss = 0.345\n",
      "Epoch  56 Batch    4/5   train_loss = 0.323\n",
      "Epoch  57 Batch    1/5   train_loss = 0.303\n",
      "Epoch  57 Batch    3/5   train_loss = 0.320\n",
      "Epoch  58 Batch    0/5   train_loss = 0.301\n",
      "Epoch  58 Batch    2/5   train_loss = 0.307\n",
      "Epoch  58 Batch    4/5   train_loss = 0.302\n",
      "Epoch  59 Batch    1/5   train_loss = 0.280\n",
      "Epoch  59 Batch    3/5   train_loss = 0.284\n",
      "Epoch  60 Batch    0/5   train_loss = 0.292\n",
      "Epoch  60 Batch    2/5   train_loss = 0.273\n",
      "Epoch  60 Batch    4/5   train_loss = 0.283\n",
      "Epoch  61 Batch    1/5   train_loss = 0.249\n",
      "Epoch  61 Batch    3/5   train_loss = 0.266\n",
      "Epoch  62 Batch    0/5   train_loss = 0.255\n",
      "Epoch  62 Batch    2/5   train_loss = 0.252\n",
      "Epoch  62 Batch    4/5   train_loss = 0.250\n",
      "Epoch  63 Batch    1/5   train_loss = 0.226\n",
      "Epoch  63 Batch    3/5   train_loss = 0.238\n",
      "Epoch  64 Batch    0/5   train_loss = 0.223\n",
      "Epoch  64 Batch    2/5   train_loss = 0.225\n",
      "Epoch  64 Batch    4/5   train_loss = 0.220\n",
      "Epoch  65 Batch    1/5   train_loss = 0.201\n",
      "Epoch  65 Batch    3/5   train_loss = 0.213\n",
      "Epoch  66 Batch    0/5   train_loss = 0.199\n",
      "Epoch  66 Batch    2/5   train_loss = 0.209\n",
      "Epoch  66 Batch    4/5   train_loss = 0.198\n",
      "Epoch  67 Batch    1/5   train_loss = 0.185\n",
      "Epoch  67 Batch    3/5   train_loss = 0.197\n",
      "Epoch  68 Batch    0/5   train_loss = 0.181\n",
      "Epoch  68 Batch    2/5   train_loss = 0.194\n",
      "Epoch  68 Batch    4/5   train_loss = 0.179\n",
      "Epoch  69 Batch    1/5   train_loss = 0.172\n",
      "Epoch  69 Batch    3/5   train_loss = 0.175\n",
      "Epoch  70 Batch    0/5   train_loss = 0.169\n",
      "Epoch  70 Batch    2/5   train_loss = 0.173\n",
      "Epoch  70 Batch    4/5   train_loss = 0.160\n",
      "Epoch  71 Batch    1/5   train_loss = 0.157\n",
      "Epoch  71 Batch    3/5   train_loss = 0.158\n",
      "Epoch  72 Batch    0/5   train_loss = 0.153\n",
      "Epoch  72 Batch    2/5   train_loss = 0.157\n",
      "Epoch  72 Batch    4/5   train_loss = 0.149\n",
      "Epoch  73 Batch    1/5   train_loss = 0.143\n",
      "Epoch  73 Batch    3/5   train_loss = 0.150\n",
      "Epoch  74 Batch    0/5   train_loss = 0.142\n",
      "Epoch  74 Batch    2/5   train_loss = 0.145\n"
     ]
    },
    {
     "name": "stdout",
     "output_type": "stream",
     "text": [
      "Epoch  74 Batch    4/5   train_loss = 0.141\n",
      "Epoch  75 Batch    1/5   train_loss = 0.132\n",
      "Epoch  75 Batch    3/5   train_loss = 0.137\n",
      "Epoch  76 Batch    0/5   train_loss = 0.141\n",
      "Epoch  76 Batch    2/5   train_loss = 0.129\n",
      "Epoch  76 Batch    4/5   train_loss = 0.134\n",
      "Epoch  77 Batch    1/5   train_loss = 0.132\n",
      "Epoch  77 Batch    3/5   train_loss = 0.125\n",
      "Epoch  78 Batch    0/5   train_loss = 0.136\n",
      "Epoch  78 Batch    2/5   train_loss = 0.129\n",
      "Epoch  78 Batch    4/5   train_loss = 0.123\n",
      "Epoch  79 Batch    1/5   train_loss = 0.126\n",
      "Epoch  79 Batch    3/5   train_loss = 0.123\n",
      "Epoch  80 Batch    0/5   train_loss = 0.119\n",
      "Epoch  80 Batch    2/5   train_loss = 0.123\n",
      "Epoch  80 Batch    4/5   train_loss = 0.111\n",
      "Epoch  81 Batch    1/5   train_loss = 0.115\n",
      "Epoch  81 Batch    3/5   train_loss = 0.110\n",
      "Epoch  82 Batch    0/5   train_loss = 0.110\n",
      "Epoch  82 Batch    2/5   train_loss = 0.104\n",
      "Epoch  82 Batch    4/5   train_loss = 0.103\n",
      "Epoch  83 Batch    1/5   train_loss = 0.095\n",
      "Epoch  83 Batch    3/5   train_loss = 0.101\n",
      "Epoch  84 Batch    0/5   train_loss = 0.094\n",
      "Epoch  84 Batch    2/5   train_loss = 0.094\n",
      "Epoch  84 Batch    4/5   train_loss = 0.090\n",
      "Epoch  85 Batch    1/5   train_loss = 0.087\n",
      "Epoch  85 Batch    3/5   train_loss = 0.091\n",
      "Epoch  86 Batch    0/5   train_loss = 0.086\n",
      "Epoch  86 Batch    2/5   train_loss = 0.086\n",
      "Epoch  86 Batch    4/5   train_loss = 0.083\n",
      "Epoch  87 Batch    1/5   train_loss = 0.080\n",
      "Epoch  87 Batch    3/5   train_loss = 0.086\n",
      "Epoch  88 Batch    0/5   train_loss = 0.080\n",
      "Epoch  88 Batch    2/5   train_loss = 0.080\n",
      "Epoch  88 Batch    4/5   train_loss = 0.079\n",
      "Epoch  89 Batch    1/5   train_loss = 0.075\n",
      "Epoch  89 Batch    3/5   train_loss = 0.081\n",
      "Epoch  90 Batch    0/5   train_loss = 0.076\n",
      "Epoch  90 Batch    2/5   train_loss = 0.077\n",
      "Epoch  90 Batch    4/5   train_loss = 0.075\n",
      "Epoch  91 Batch    1/5   train_loss = 0.072\n",
      "Epoch  91 Batch    3/5   train_loss = 0.078\n",
      "Epoch  92 Batch    0/5   train_loss = 0.073\n",
      "Epoch  92 Batch    2/5   train_loss = 0.073\n",
      "Epoch  92 Batch    4/5   train_loss = 0.071\n",
      "Epoch  93 Batch    1/5   train_loss = 0.069\n",
      "Epoch  93 Batch    3/5   train_loss = 0.075\n",
      "Epoch  94 Batch    0/5   train_loss = 0.070\n",
      "Epoch  94 Batch    2/5   train_loss = 0.071\n",
      "Epoch  94 Batch    4/5   train_loss = 0.069\n",
      "Epoch  95 Batch    1/5   train_loss = 0.067\n",
      "Epoch  95 Batch    3/5   train_loss = 0.073\n",
      "Epoch  96 Batch    0/5   train_loss = 0.068\n",
      "Epoch  96 Batch    2/5   train_loss = 0.068\n",
      "Epoch  96 Batch    4/5   train_loss = 0.067\n",
      "Epoch  97 Batch    1/5   train_loss = 0.065\n",
      "Epoch  97 Batch    3/5   train_loss = 0.071\n",
      "Epoch  98 Batch    0/5   train_loss = 0.066\n",
      "Epoch  98 Batch    2/5   train_loss = 0.066\n",
      "Epoch  98 Batch    4/5   train_loss = 0.065\n",
      "Epoch  99 Batch    1/5   train_loss = 0.063\n",
      "Epoch  99 Batch    3/5   train_loss = 0.069\n",
      "Epoch 100 Batch    0/5   train_loss = 0.065\n",
      "Epoch 100 Batch    2/5   train_loss = 0.065\n",
      "Epoch 100 Batch    4/5   train_loss = 0.063\n",
      "Epoch 101 Batch    1/5   train_loss = 0.061\n",
      "Epoch 101 Batch    3/5   train_loss = 0.068\n",
      "Epoch 102 Batch    0/5   train_loss = 0.063\n",
      "Epoch 102 Batch    2/5   train_loss = 0.063\n",
      "Epoch 102 Batch    4/5   train_loss = 0.062\n",
      "Epoch 103 Batch    1/5   train_loss = 0.060\n",
      "Epoch 103 Batch    3/5   train_loss = 0.066\n",
      "Epoch 104 Batch    0/5   train_loss = 0.062\n",
      "Epoch 104 Batch    2/5   train_loss = 0.062\n",
      "Epoch 104 Batch    4/5   train_loss = 0.061\n",
      "Epoch 105 Batch    1/5   train_loss = 0.059\n",
      "Epoch 105 Batch    3/5   train_loss = 0.065\n",
      "Epoch 106 Batch    0/5   train_loss = 0.061\n",
      "Epoch 106 Batch    2/5   train_loss = 0.061\n",
      "Epoch 106 Batch    4/5   train_loss = 0.059\n",
      "Epoch 107 Batch    1/5   train_loss = 0.058\n",
      "Epoch 107 Batch    3/5   train_loss = 0.064\n",
      "Epoch 108 Batch    0/5   train_loss = 0.060\n",
      "Epoch 108 Batch    2/5   train_loss = 0.060\n",
      "Epoch 108 Batch    4/5   train_loss = 0.058\n",
      "Epoch 109 Batch    1/5   train_loss = 0.057\n",
      "Epoch 109 Batch    3/5   train_loss = 0.063\n",
      "Epoch 110 Batch    0/5   train_loss = 0.059\n",
      "Epoch 110 Batch    2/5   train_loss = 0.058\n",
      "Epoch 110 Batch    4/5   train_loss = 0.057\n",
      "Epoch 111 Batch    1/5   train_loss = 0.056\n",
      "Epoch 111 Batch    3/5   train_loss = 0.062\n",
      "Epoch 112 Batch    0/5   train_loss = 0.058\n",
      "Epoch 112 Batch    2/5   train_loss = 0.057\n",
      "Epoch 112 Batch    4/5   train_loss = 0.056\n",
      "Epoch 113 Batch    1/5   train_loss = 0.055\n",
      "Epoch 113 Batch    3/5   train_loss = 0.061\n",
      "Epoch 114 Batch    0/5   train_loss = 0.057\n",
      "Epoch 114 Batch    2/5   train_loss = 0.057\n",
      "Epoch 114 Batch    4/5   train_loss = 0.055\n",
      "Epoch 115 Batch    1/5   train_loss = 0.054\n",
      "Epoch 115 Batch    3/5   train_loss = 0.060\n",
      "Epoch 116 Batch    0/5   train_loss = 0.056\n",
      "Epoch 116 Batch    2/5   train_loss = 0.056\n",
      "Epoch 116 Batch    4/5   train_loss = 0.054\n",
      "Epoch 117 Batch    1/5   train_loss = 0.053\n",
      "Epoch 117 Batch    3/5   train_loss = 0.059\n",
      "Epoch 118 Batch    0/5   train_loss = 0.055\n",
      "Epoch 118 Batch    2/5   train_loss = 0.055\n",
      "Epoch 118 Batch    4/5   train_loss = 0.054\n",
      "Epoch 119 Batch    1/5   train_loss = 0.053\n",
      "Epoch 119 Batch    3/5   train_loss = 0.059\n",
      "Epoch 120 Batch    0/5   train_loss = 0.055\n",
      "Epoch 120 Batch    2/5   train_loss = 0.054\n",
      "Epoch 120 Batch    4/5   train_loss = 0.053\n",
      "Epoch 121 Batch    1/5   train_loss = 0.052\n",
      "Epoch 121 Batch    3/5   train_loss = 0.058\n",
      "Epoch 122 Batch    0/5   train_loss = 0.054\n",
      "Epoch 122 Batch    2/5   train_loss = 0.054\n",
      "Epoch 122 Batch    4/5   train_loss = 0.053\n",
      "Epoch 123 Batch    1/5   train_loss = 0.052\n",
      "Epoch 123 Batch    3/5   train_loss = 0.057\n",
      "Epoch 124 Batch    0/5   train_loss = 0.054\n",
      "Epoch 124 Batch    2/5   train_loss = 0.053\n",
      "Epoch 124 Batch    4/5   train_loss = 0.052\n",
      "Epoch 125 Batch    1/5   train_loss = 0.051\n",
      "Epoch 125 Batch    3/5   train_loss = 0.057\n",
      "Epoch 126 Batch    0/5   train_loss = 0.053\n",
      "Epoch 126 Batch    2/5   train_loss = 0.053\n",
      "Epoch 126 Batch    4/5   train_loss = 0.051\n",
      "Epoch 127 Batch    1/5   train_loss = 0.051\n",
      "Epoch 127 Batch    3/5   train_loss = 0.056\n",
      "Epoch 128 Batch    0/5   train_loss = 0.053\n",
      "Epoch 128 Batch    2/5   train_loss = 0.052\n",
      "Epoch 128 Batch    4/5   train_loss = 0.051\n",
      "Epoch 129 Batch    1/5   train_loss = 0.050\n",
      "Epoch 129 Batch    3/5   train_loss = 0.056\n",
      "Epoch 130 Batch    0/5   train_loss = 0.052\n",
      "Epoch 130 Batch    2/5   train_loss = 0.052\n",
      "Epoch 130 Batch    4/5   train_loss = 0.050\n",
      "Epoch 131 Batch    1/5   train_loss = 0.050\n",
      "Epoch 131 Batch    3/5   train_loss = 0.055\n",
      "Epoch 132 Batch    0/5   train_loss = 0.052\n",
      "Epoch 132 Batch    2/5   train_loss = 0.051\n",
      "Epoch 132 Batch    4/5   train_loss = 0.050\n",
      "Epoch 133 Batch    1/5   train_loss = 0.049\n",
      "Epoch 133 Batch    3/5   train_loss = 0.055\n",
      "Epoch 134 Batch    0/5   train_loss = 0.051\n",
      "Epoch 134 Batch    2/5   train_loss = 0.051\n",
      "Epoch 134 Batch    4/5   train_loss = 0.050\n",
      "Epoch 135 Batch    1/5   train_loss = 0.049\n",
      "Epoch 135 Batch    3/5   train_loss = 0.055\n",
      "Epoch 136 Batch    0/5   train_loss = 0.051\n",
      "Epoch 136 Batch    2/5   train_loss = 0.051\n",
      "Epoch 136 Batch    4/5   train_loss = 0.049\n",
      "Epoch 137 Batch    1/5   train_loss = 0.049\n",
      "Epoch 137 Batch    3/5   train_loss = 0.054\n",
      "Epoch 138 Batch    0/5   train_loss = 0.051\n",
      "Epoch 138 Batch    2/5   train_loss = 0.050\n",
      "Epoch 138 Batch    4/5   train_loss = 0.049\n",
      "Epoch 139 Batch    1/5   train_loss = 0.048\n",
      "Epoch 139 Batch    3/5   train_loss = 0.054\n",
      "Epoch 140 Batch    0/5   train_loss = 0.050\n",
      "Epoch 140 Batch    2/5   train_loss = 0.050\n",
      "Epoch 140 Batch    4/5   train_loss = 0.049\n",
      "Epoch 141 Batch    1/5   train_loss = 0.048\n",
      "Epoch 141 Batch    3/5   train_loss = 0.054\n",
      "Epoch 142 Batch    0/5   train_loss = 0.050\n",
      "Epoch 142 Batch    2/5   train_loss = 0.050\n",
      "Epoch 142 Batch    4/5   train_loss = 0.048\n",
      "Epoch 143 Batch    1/5   train_loss = 0.048\n",
      "Epoch 143 Batch    3/5   train_loss = 0.053\n",
      "Epoch 144 Batch    0/5   train_loss = 0.050\n",
      "Epoch 144 Batch    2/5   train_loss = 0.049\n",
      "Epoch 144 Batch    4/5   train_loss = 0.048\n",
      "Epoch 145 Batch    1/5   train_loss = 0.047\n",
      "Epoch 145 Batch    3/5   train_loss = 0.053\n",
      "Epoch 146 Batch    0/5   train_loss = 0.050\n",
      "Epoch 146 Batch    2/5   train_loss = 0.049\n",
      "Epoch 146 Batch    4/5   train_loss = 0.048\n",
      "Epoch 147 Batch    1/5   train_loss = 0.047\n",
      "Epoch 147 Batch    3/5   train_loss = 0.053\n",
      "Epoch 148 Batch    0/5   train_loss = 0.049\n",
      "Epoch 148 Batch    2/5   train_loss = 0.049\n",
      "Epoch 148 Batch    4/5   train_loss = 0.048\n",
      "Epoch 149 Batch    1/5   train_loss = 0.047\n"
     ]
    },
    {
     "name": "stdout",
     "output_type": "stream",
     "text": [
      "Epoch 149 Batch    3/5   train_loss = 0.053\n",
      "Model Trained and Saved\n"
     ]
    }
   ],
   "source": [
    "\"\"\"\n",
    "DON'T MODIFY ANYTHING IN THIS CELL\n",
    "\"\"\"\n",
    "batches = get_batches(int_text, batch_size, seq_length)\n",
    "\n",
    "with tf.Session(graph=train_graph) as sess:\n",
    "    sess.run(tf.global_variables_initializer())\n",
    "\n",
    "    for epoch_i in range(num_epochs):\n",
    "        state = sess.run(initial_state, {input_text: batches[0][0]})\n",
    "\n",
    "        for batch_i, (x, y) in enumerate(batches):\n",
    "            feed = {\n",
    "                input_text: x,\n",
    "                targets: y,\n",
    "                initial_state: state,\n",
    "                lr: learning_rate}\n",
    "            train_loss, state, _ = sess.run([cost, final_state, train_op], feed)\n",
    "\n",
    "            # Show every <show_every_n_batches> batches\n",
    "            if (epoch_i * len(batches) + batch_i) % show_every_n_batches == 0:\n",
    "                print('Epoch {:>3} Batch {:>4}/{}   train_loss = {:.3f}'.format(\n",
    "                    epoch_i,\n",
    "                    batch_i,\n",
    "                    len(batches),\n",
    "                    train_loss))\n",
    "\n",
    "    # Save Model\n",
    "    saver = tf.train.Saver()\n",
    "    saver.save(sess, save_dir)\n",
    "    print('Model Trained and Saved')"
   ]
  },
  {
   "cell_type": "markdown",
   "metadata": {},
   "source": [
    "## Save Parameters\n",
    "Save `seq_length` and `save_dir` for generating a new TV script."
   ]
  },
  {
   "cell_type": "code",
   "execution_count": 34,
   "metadata": {
    "collapsed": true
   },
   "outputs": [],
   "source": [
    "\"\"\"\n",
    "DON'T MODIFY ANYTHING IN THIS CELL\n",
    "\"\"\"\n",
    "# Save parameters for checkpoint\n",
    "helper.save_params((seq_length, save_dir))"
   ]
  },
  {
   "cell_type": "markdown",
   "metadata": {},
   "source": [
    "# Checkpoint"
   ]
  },
  {
   "cell_type": "code",
   "execution_count": 35,
   "metadata": {
    "collapsed": true
   },
   "outputs": [],
   "source": [
    "\"\"\"\n",
    "DON'T MODIFY ANYTHING IN THIS CELL\n",
    "\"\"\"\n",
    "import tensorflow as tf\n",
    "import numpy as np\n",
    "import helper\n",
    "import problem_unittests as tests\n",
    "\n",
    "_, vocab_to_int, int_to_vocab, token_dict = helper.load_preprocess()\n",
    "seq_length, load_dir = helper.load_params()"
   ]
  },
  {
   "cell_type": "markdown",
   "metadata": {},
   "source": [
    "## Implement Generate Functions\n",
    "### Get Tensors\n",
    "Get tensors from `loaded_graph` using the function [`get_tensor_by_name()`](https://www.tensorflow.org/api_docs/python/tf/Graph#get_tensor_by_name).  Get the tensors using the following names:\n",
    "- \"input:0\"\n",
    "- \"initial_state:0\"\n",
    "- \"final_state:0\"\n",
    "- \"probs:0\"\n",
    "\n",
    "Return the tensors in the following tuple `(InputTensor, InitialStateTensor, FinalStateTensor, ProbsTensor)` "
   ]
  },
  {
   "cell_type": "code",
   "execution_count": 36,
   "metadata": {},
   "outputs": [
    {
     "name": "stdout",
     "output_type": "stream",
     "text": [
      "Tests Passed\n"
     ]
    }
   ],
   "source": [
    "def get_tensors(loaded_graph):\n",
    "    \"\"\"\n",
    "    Get input, initial state, final state, and probabilities tensor from <loaded_graph>\n",
    "    :param loaded_graph: TensorFlow graph loaded from file\n",
    "    :return: Tuple (InputTensor, InitialStateTensor, FinalStateTensor, ProbsTensor)\n",
    "    \"\"\"\n",
    "    input_tensor = loaded_graph.get_tensor_by_name('input:0')\n",
    "    initial_state_tensor = loaded_graph.get_tensor_by_name('initial_state:0')\n",
    "    final_state_tensor = loaded_graph.get_tensor_by_name('final_state:0')\n",
    "    probs_tensor = loaded_graph.get_tensor_by_name('probs:0')\n",
    "    return input_tensor, initial_state_tensor, final_state_tensor, probs_tensor\n",
    "\n",
    "\n",
    "\"\"\"\n",
    "DON'T MODIFY ANYTHING IN THIS CELL THAT IS BELOW THIS LINE\n",
    "\"\"\"\n",
    "tests.test_get_tensors(get_tensors)"
   ]
  },
  {
   "cell_type": "markdown",
   "metadata": {},
   "source": [
    "### Choose Word\n",
    "Implement the `pick_word()` function to select the next word using `probabilities`."
   ]
  },
  {
   "cell_type": "code",
   "execution_count": 37,
   "metadata": {},
   "outputs": [
    {
     "name": "stdout",
     "output_type": "stream",
     "text": [
      "Tests Passed\n"
     ]
    }
   ],
   "source": [
    "def pick_word(probabilities, int_to_vocab):\n",
    "    \"\"\"\n",
    "    Pick the next word in the generated text\n",
    "    :param probabilities: Probabilites of the next word\n",
    "    :param int_to_vocab: Dictionary of word ids as the keys and words as the values\n",
    "    :return: String of the predicted word\n",
    "    \"\"\"\n",
    "    probabilities = list(probabilities)\n",
    "    index = probabilities.index(max(probabilities))\n",
    "    return int_to_vocab[index]\n",
    "\n",
    "\n",
    "\"\"\"\n",
    "DON'T MODIFY ANYTHING IN THIS CELL THAT IS BELOW THIS LINE\n",
    "\"\"\"\n",
    "tests.test_pick_word(pick_word)"
   ]
  },
  {
   "cell_type": "markdown",
   "metadata": {},
   "source": [
    "## Generate TV Script\n",
    "This will generate the TV script for you.  Set `gen_length` to the length of TV script you want to generate."
   ]
  },
  {
   "cell_type": "code",
   "execution_count": 38,
   "metadata": {},
   "outputs": [
    {
     "name": "stdout",
     "output_type": "stream",
     "text": [
      "moe_szyslak:(into phone) hello. oh hey, milhouse.\n",
      "lisa_simpson:(quickly) i'm not here.\n",
      "\n",
      "\n",
      "homer_simpson:(sobbing) greystash! greystash!\n",
      "moe_szyslak: gee, you're really upset about this greystash thing.\n",
      "homer_simpson: don't say his name!\n",
      "moe_szyslak: love! i was thinking what i meant.\n",
      "moe_szyslak: so marge, uh... homer's been gone a whole week, huh? in the world, the thing\n",
      "homer_simpson: hey, not a god.\n",
      "football_announcer: that was the score at the half. buffalo fourteen: dallas seven.\n",
      "barflies: go! go! go! go! go! yea!!\n",
      "duff_announcer: it's a touchdown for half-back dan beer-dorf! duff dry has won the need you, come i can get!\n",
      "moe_szyslak: no, it's true. i've got their names written down right here, in what i?\n",
      "barney_gumble: hey, you're kinda all right. i couldn't bear to watch you die.\n",
      "carl_carlson:(dying) well, okay, but hurry up.\n",
      "homer_simpson:(distraught\n"
     ]
    }
   ],
   "source": [
    "gen_length = 200\n",
    "# homer_simpson, moe_szyslak, or Barney_Gumble\n",
    "prime_word = 'moe_szyslak'\n",
    "\n",
    "\"\"\"\n",
    "DON'T MODIFY ANYTHING IN THIS CELL THAT IS BELOW THIS LINE\n",
    "\"\"\"\n",
    "loaded_graph = tf.Graph()\n",
    "with tf.Session(graph=loaded_graph) as sess:\n",
    "    # Load saved model\n",
    "    loader = tf.train.import_meta_graph(load_dir + '.meta')\n",
    "    loader.restore(sess, load_dir)\n",
    "\n",
    "    # Get Tensors from loaded model\n",
    "    input_text, initial_state, final_state, probs = get_tensors(loaded_graph)\n",
    "\n",
    "    # Sentences generation setup\n",
    "    gen_sentences = [prime_word + ':']\n",
    "    prev_state = sess.run(initial_state, {input_text: np.array([[1]])})\n",
    "\n",
    "    # Generate sentences\n",
    "    for n in range(gen_length):\n",
    "        # Dynamic Input\n",
    "        dyn_input = [[vocab_to_int[word] for word in gen_sentences[-seq_length:]]]\n",
    "        dyn_seq_length = len(dyn_input[0])\n",
    "\n",
    "        # Get Prediction\n",
    "        probabilities, prev_state = sess.run(\n",
    "            [probs, final_state],\n",
    "            {input_text: dyn_input, initial_state: prev_state})\n",
    "        \n",
    "        pred_word = pick_word(probabilities[dyn_seq_length-1], int_to_vocab)\n",
    "\n",
    "        gen_sentences.append(pred_word)\n",
    "    \n",
    "    # Remove tokens\n",
    "    tv_script = ' '.join(gen_sentences)\n",
    "    for key, token in token_dict.items():\n",
    "        ending = ' ' if key in ['\\n', '(', '\"'] else ''\n",
    "        tv_script = tv_script.replace(' ' + token.lower(), key)\n",
    "    tv_script = tv_script.replace('\\n ', '\\n')\n",
    "    tv_script = tv_script.replace('( ', '(')\n",
    "        \n",
    "    print(tv_script)"
   ]
  },
  {
   "cell_type": "markdown",
   "metadata": {},
   "source": [
    "# The TV Script is Nonsensical\n",
    "It's ok if the TV script doesn't make any sense.  We trained on less than a megabyte of text.  In order to get good results, you'll have to use a smaller vocabulary or get more data.  Luckly there's more data!  As we mentioned in the begging of this project, this is a subset of [another dataset](https://www.kaggle.com/wcukierski/the-simpsons-by-the-data).  We didn't have you train on all the data, because that would take too long.  However, you are free to train your neural network on all the data.  After you complete the project, of course.\n",
    "# Submitting This Project\n",
    "When submitting this project, make sure to run all the cells before saving the notebook. Save the notebook file as \"dlnd_tv_script_generation.ipynb\" and save it as a HTML file under \"File\" -> \"Download as\". Include the \"helper.py\" and \"problem_unittests.py\" files in your submission."
   ]
  },
  {
   "cell_type": "code",
   "execution_count": null,
   "metadata": {
    "collapsed": true
   },
   "outputs": [],
   "source": []
  }
 ],
 "metadata": {
  "kernelspec": {
   "display_name": "Python 2",
   "language": "python",
   "name": "python2"
  },
  "language_info": {
   "codemirror_mode": {
    "name": "ipython",
    "version": 2
   },
   "file_extension": ".py",
   "mimetype": "text/x-python",
   "name": "python",
   "nbconvert_exporter": "python",
   "pygments_lexer": "ipython2",
   "version": "2.7.10"
  },
  "widgets": {
   "state": {},
   "version": "1.1.2"
  }
 },
 "nbformat": 4,
 "nbformat_minor": 1
}
