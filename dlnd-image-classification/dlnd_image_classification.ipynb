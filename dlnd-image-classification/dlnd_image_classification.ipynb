{
 "cells": [
  {
   "cell_type": "markdown",
   "metadata": {
    "collapsed": true
   },
   "source": [
    "# Image Classification\n",
    "In this project, you'll classify images from the [CIFAR-10 dataset](https://www.cs.toronto.edu/~kriz/cifar.html).  The dataset consists of airplanes, dogs, cats, and other objects. You'll preprocess the images, then train a convolutional neural network on all the samples. The images need to be normalized and the labels need to be one-hot encoded.  You'll get to apply what you learned and build a convolutional, max pooling, dropout, and fully connected layers.  At the end, you'll get to see your neural network's predictions on the sample images.\n",
    "## Get the Data\n",
    "Run the following cell to download the [CIFAR-10 dataset for python](https://www.cs.toronto.edu/~kriz/cifar-10-python.tar.gz)."
   ]
  },
  {
   "cell_type": "code",
   "execution_count": 1,
   "metadata": {
    "collapsed": false
   },
   "outputs": [
    {
     "name": "stdout",
     "output_type": "stream",
     "text": [
      "All files found!\n"
     ]
    }
   ],
   "source": [
    "\"\"\"\n",
    "DON'T MODIFY ANYTHING IN THIS CELL THAT IS BELOW THIS LINE\n",
    "\"\"\"\n",
    "from urllib.request import urlretrieve\n",
    "from os.path import isfile, isdir\n",
    "from tqdm import tqdm\n",
    "import problem_unittests as tests\n",
    "import tarfile\n",
    "\n",
    "cifar10_dataset_folder_path = 'cifar-10-batches-py'\n",
    "\n",
    "class DLProgress(tqdm):\n",
    "    last_block = 0\n",
    "\n",
    "    def hook(self, block_num=1, block_size=1, total_size=None):\n",
    "        self.total = total_size\n",
    "        self.update((block_num - self.last_block) * block_size)\n",
    "        self.last_block = block_num\n",
    "\n",
    "if not isfile('cifar-10-python.tar.gz'):\n",
    "    with DLProgress(unit='B', unit_scale=True, miniters=1, desc='CIFAR-10 Dataset') as pbar:\n",
    "        urlretrieve(\n",
    "            'https://www.cs.toronto.edu/~kriz/cifar-10-python.tar.gz',\n",
    "            'cifar-10-python.tar.gz',\n",
    "            pbar.hook)\n",
    "\n",
    "if not isdir(cifar10_dataset_folder_path):\n",
    "    with tarfile.open('cifar-10-python.tar.gz') as tar:\n",
    "        tar.extractall()\n",
    "        tar.close()\n",
    "\n",
    "\n",
    "tests.test_folder_path(cifar10_dataset_folder_path)"
   ]
  },
  {
   "cell_type": "markdown",
   "metadata": {},
   "source": [
    "## Explore the Data\n",
    "The dataset is broken into batches to prevent your machine from running out of memory.  The CIFAR-10 dataset consists of 5 batches, named `data_batch_1`, `data_batch_2`, etc.. Each batch contains the labels and images that are one of the following:\n",
    "* airplane\n",
    "* automobile\n",
    "* bird\n",
    "* cat\n",
    "* deer\n",
    "* dog\n",
    "* frog\n",
    "* horse\n",
    "* ship\n",
    "* truck\n",
    "\n",
    "Understanding a dataset is part of making predictions on the data.  Play around with the code cell below by changing the `batch_id` and `sample_id`. The `batch_id` is the id for a batch (1-5). The `sample_id` is the id for a image and label pair in the batch.\n",
    "\n",
    "Ask yourself \"What are all possible labels?\", \"What is the range of values for the image data?\", \"Are the labels in order or random?\".  Answers to questions like these will help you preprocess the data and end up with better predictions."
   ]
  },
  {
   "cell_type": "code",
   "execution_count": 2,
   "metadata": {
    "collapsed": false
   },
   "outputs": [
    {
     "name": "stdout",
     "output_type": "stream",
     "text": [
      "\n",
      "Stats of batch 1:\n",
      "Samples: 10000\n",
      "Label Counts: {0: 1005, 1: 974, 2: 1032, 3: 1016, 4: 999, 5: 937, 6: 1030, 7: 1001, 8: 1025, 9: 981}\n",
      "First 20 Labels: [6, 9, 9, 4, 1, 1, 2, 7, 8, 3, 4, 7, 7, 2, 9, 9, 9, 3, 2, 6]\n",
      "\n",
      "Example of Image 5:\n",
      "Image - Min Value: 0 Max Value: 252\n",
      "Image - Shape: (32, 32, 3)\n",
      "Label - Label Id: 1 Name: automobile\n"
     ]
    },
    {
     "data": {
      "image/png": "[encoded data removed]",
      "text/plain": [
       "<matplotlib.figure.Figure at 0x1042ff780>"
      ]
     },
     "metadata": {
      "image/png": {
       "height": 250,
       "width": 253
      }
     },
     "output_type": "display_data"
    }
   ],
   "source": [
    "%matplotlib inline\n",
    "%config InlineBackend.figure_format = 'retina'\n",
    "\n",
    "import helper\n",
    "import numpy as np\n",
    "\n",
    "# Explore the dataset\n",
    "batch_id = 1\n",
    "sample_id = 5\n",
    "helper.display_stats(cifar10_dataset_folder_path, batch_id, sample_id)"
   ]
  },
  {
   "cell_type": "markdown",
   "metadata": {},
   "source": [
    "## Implement Preprocess Functions\n",
    "### Normalize\n",
    "In the cell below, implement the `normalize` function to take in image data, `x`, and return it as a normalized Numpy array. The values should be in the range of 0 to 1, inclusive.  The return object should be the same shape as `x`."
   ]
  },
  {
   "cell_type": "code",
   "execution_count": 3,
   "metadata": {
    "collapsed": false
   },
   "outputs": [
    {
     "name": "stdout",
     "output_type": "stream",
     "text": [
      "Tests Passed\n"
     ]
    }
   ],
   "source": [
    "def normalize(x):\n",
    "    \"\"\"\n",
    "    Normalize a list of sample image data in the range of 0 to 1\n",
    "    : x: List of image data.  The image shape is (32, 32, 3)\n",
    "    : return: Numpy array of normalize data\n",
    "    \"\"\"\n",
    "    # TODO: Implement Function\n",
    "    \n",
    "    ###!!!\n",
    "    x_normalized = (x - np.min(x)) / (np.max(x) - np.min(x))\n",
    "    return x_normalized\n",
    "\n",
    "\n",
    "\"\"\"\n",
    "DON'T MODIFY ANYTHING IN THIS CELL THAT IS BELOW THIS LINE\n",
    "\"\"\"\n",
    "tests.test_normalize(normalize)"
   ]
  },
  {
   "cell_type": "markdown",
   "metadata": {},
   "source": [
    "### One-hot encode\n",
    "Just like the previous code cell, you'll be implementing a function for preprocessing.  This time, you'll implement the `one_hot_encode` function. The input, `x`, are a list of labels.  Implement the function to return the list of labels as One-Hot encoded Numpy array.  The possible values for labels are 0 to 9. The one-hot encoding function should return the same encoding for each value between each call to `one_hot_encode`.  Make sure to save the map of encodings outside the function.\n",
    "\n",
    "Hint: Don't reinvent the wheel."
   ]
  },
  {
   "cell_type": "code",
   "execution_count": 4,
   "metadata": {
    "collapsed": false
   },
   "outputs": [
    {
     "name": "stdout",
     "output_type": "stream",
     "text": [
      "Tests Passed\n"
     ]
    }
   ],
   "source": [
    "#!!!\n",
    "from sklearn import preprocessing\n",
    "import tensorflow as tf\n",
    "mapping = []\n",
    "def one_hot_encode(x):\n",
    "    \"\"\"\n",
    "    One hot encode a list of sample labels. Return a one-hot encoded vector for each label.\n",
    "    : x: List of sample Labels\n",
    "    : return: Numpy array of one-hot encoded labels\n",
    "    \"\"\"\n",
    "    # TODO: Implement Function\n",
    "    #!!!\n",
    "    #x = np.zeros((len(x), 10), dtype='float32')\n",
    "    #encoder = preprocessing.LabelBinarizer()\n",
    "    #encoder.fit(x)\n",
    "    #one_hot_encode_x = encoder.transform(x)\n",
    "    #return one_hot_encode_x\n",
    "    global mapping\n",
    "    if (len(mapping) == 0):\n",
    "        mapping = {v: k for k, v in dict(enumerate(set(x))).items()}\n",
    "    eye = np.eye(len(mapping))\n",
    "    holder = []\n",
    "    for label in x:\n",
    "        holder.append(eye[mapping[label]])\n",
    "    one_hot = np.array(holder)\n",
    "    return one_hot\n",
    "\n",
    "\"\"\"\n",
    "DON'T MODIFY ANYTHING IN THIS CELL THAT IS BELOW THIS LINE\n",
    "\"\"\"\n",
    "tests.test_one_hot_encode(one_hot_encode)"
   ]
  },
  {
   "cell_type": "markdown",
   "metadata": {},
   "source": [
    "### Randomize Data\n",
    "As you saw from exploring the data above, the order of the samples are randomized.  It doesn't hurt to randomize it again, but you don't need to for this dataset."
   ]
  },
  {
   "cell_type": "markdown",
   "metadata": {},
   "source": [
    "## Preprocess all the data and save it\n",
    "Running the code cell below will preprocess all the CIFAR-10 data and save it to file. The code below also uses 10% of the training data for validation."
   ]
  },
  {
   "cell_type": "code",
   "execution_count": 5,
   "metadata": {
    "collapsed": false
   },
   "outputs": [],
   "source": [
    "\"\"\"\n",
    "DON'T MODIFY ANYTHING IN THIS CELL\n",
    "\"\"\"\n",
    "# Preprocess Training, Validation, and Testing Data\n",
    "helper.preprocess_and_save_data(cifar10_dataset_folder_path, normalize, one_hot_encode)"
   ]
  },
  {
   "cell_type": "markdown",
   "metadata": {},
   "source": [
    "# Check Point\n",
    "This is your first checkpoint.  If you ever decide to come back to this notebook or have to restart the notebook, you can start from here.  The preprocessed data has been saved to disk."
   ]
  },
  {
   "cell_type": "code",
   "execution_count": 6,
   "metadata": {
    "collapsed": true
   },
   "outputs": [],
   "source": [
    "\"\"\"\n",
    "DON'T MODIFY ANYTHING IN THIS CELL\n",
    "\"\"\"\n",
    "import pickle\n",
    "import problem_unittests as tests\n",
    "import helper\n",
    "\n",
    "# Load the Preprocessed Validation data\n",
    "valid_features, valid_labels = pickle.load(open('preprocess_validation.p', mode='rb'))"
   ]
  },
  {
   "cell_type": "markdown",
   "metadata": {},
   "source": [
    "## Build the network\n",
    "For the neural network, you'll build each layer into a function.  Most of the code you've seen has been outside of functions. To test your code more thoroughly, we require that you put each layer in a function.  This allows us to give you better feedback and test for simple mistakes using our unittests before you submit your project.\n",
    "\n",
    "If you're finding it hard to dedicate enough time for this course a week, we've provided a small shortcut to this part of the project. In the next couple of problems, you'll have the option to use [TensorFlow Layers](https://www.tensorflow.org/api_docs/python/tf/layers) or [TensorFlow Layers (contrib)](https://www.tensorflow.org/api_guides/python/contrib.layers) to build each layer, except \"Convolutional & Max Pooling\" layer.  TF Layers is similar to Keras's and TFLearn's abstraction to layers, so it's easy to pickup.\n",
    "\n",
    "If you would like to get the most of this course, try to solve all the problems without TF Layers.  Let's begin!\n",
    "### Input\n",
    "The neural network needs to read the image data, one-hot encoded labels, and dropout keep probability. Implement the following functions\n",
    "* Implement `neural_net_image_input`\n",
    " * Return a [TF Placeholder](https://www.tensorflow.org/api_docs/python/tf/placeholder)\n",
    " * Set the shape using `image_shape` with batch size set to `None`.\n",
    " * Name the TensorFlow placeholder \"x\" using the TensorFlow `name` parameter in the [TF Placeholder](https://www.tensorflow.org/api_docs/python/tf/placeholder).\n",
    "* Implement `neural_net_label_input`\n",
    " * Return a [TF Placeholder](https://www.tensorflow.org/api_docs/python/tf/placeholder)\n",
    " * Set the shape using `n_classes` with batch size set to `None`.\n",
    " * Name the TensorFlow placeholder \"y\" using the TensorFlow `name` parameter in the [TF Placeholder](https://www.tensorflow.org/api_docs/python/tf/placeholder).\n",
    "* Implement `neural_net_keep_prob_input`\n",
    " * Return a [TF Placeholder](https://www.tensorflow.org/api_docs/python/tf/placeholder) for dropout keep probability.\n",
    " * Name the TensorFlow placeholder \"keep_prob\" using the TensorFlow `name` parameter in the [TF Placeholder](https://www.tensorflow.org/api_docs/python/tf/placeholder).\n",
    "\n",
    "These names will be used at the end of the project to load your saved model.\n",
    "\n",
    "Note: `None` for shapes in TensorFlow allow for a dynamic size."
   ]
  },
  {
   "cell_type": "code",
   "execution_count": 7,
   "metadata": {
    "collapsed": false
   },
   "outputs": [
    {
     "name": "stdout",
     "output_type": "stream",
     "text": [
      "Image Input Tests Passed.\n",
      "Label Input Tests Passed.\n",
      "Keep Prob Tests Passed.\n"
     ]
    }
   ],
   "source": [
    "import tensorflow as tf\n",
    "\n",
    "def neural_net_image_input(image_shape):\n",
    "    \"\"\"\n",
    "    Return a Tensor for a bach of image input\n",
    "    : image_shape: Shape of the images\n",
    "    : return: Tensor for image input.\n",
    "    \"\"\"\n",
    "    # TODO: Implement Function\n",
    "    image_input = tf.placeholder(tf.float32, shape=(None, image_shape[0], image_shape[1], image_shape[2]), name='x')\n",
    "    return image_input\n",
    "\n",
    "\n",
    "def neural_net_label_input(n_classes):\n",
    "    \"\"\"\n",
    "    Return a Tensor for a batch of label input\n",
    "    : n_classes: Number of classes\n",
    "    : return: Tensor for label input.\n",
    "    \"\"\"\n",
    "    # TODO: Implement Function\n",
    "    label_input = tf.placeholder(tf.float32, shape=(None, n_classes), name='y')\n",
    "    return label_input\n",
    "\n",
    "\n",
    "def neural_net_keep_prob_input():\n",
    "    \"\"\"\n",
    "    Return a Tensor for keep probability\n",
    "    : return: Tensor for keep probability.\n",
    "    \"\"\"\n",
    "    # TODO: Implement Function\n",
    "    keep_prob_input = tf.placeholder(tf.float32, name='keep_prob')\n",
    "    return keep_prob_input\n",
    "\n",
    "\n",
    "\"\"\"\n",
    "DON'T MODIFY ANYTHING IN THIS CELL THAT IS BELOW THIS LINE\n",
    "\"\"\"\n",
    "tf.reset_default_graph()\n",
    "tests.test_nn_image_inputs(neural_net_image_input)\n",
    "tests.test_nn_label_inputs(neural_net_label_input)\n",
    "tests.test_nn_keep_prob_inputs(neural_net_keep_prob_input)"
   ]
  },
  {
   "cell_type": "markdown",
   "metadata": {},
   "source": [
    "### Convolution and Max Pooling Layer\n",
    "Convolution layers have a lot of success with images. For this code cell, you should implement the function `conv2d_maxpool` to apply convolution then max pooling:\n",
    "* Create the weight and bias using `conv_ksize`, `conv_num_outputs` and the shape of `x_tensor`.\n",
    "* Apply a convolution to `x_tensor` using weight and `conv_strides`.\n",
    " * We recommend you use same padding, but you're welcome to use any padding.\n",
    "* Add bias\n",
    "* Add a nonlinear activation to the convolution.\n",
    "* Apply Max Pooling using `pool_ksize` and `pool_strides`.\n",
    " * We recommend you use same padding, but you're welcome to use any padding.\n",
    "\n",
    "Note: You **can't** use [TensorFlow Layers](https://www.tensorflow.org/api_docs/python/tf/layers) or [TensorFlow Layers (contrib)](https://www.tensorflow.org/api_guides/python/contrib.layers) for this layer.  You're free to use any TensorFlow package for all the other layers."
   ]
  },
  {
   "cell_type": "code",
   "execution_count": 8,
   "metadata": {
    "collapsed": false
   },
   "outputs": [
    {
     "name": "stdout",
     "output_type": "stream",
     "text": [
      "Tests Passed\n"
     ]
    }
   ],
   "source": [
    "def conv2d_maxpool(x_tensor, conv_num_outputs, conv_ksize, conv_strides, pool_ksize, pool_strides):\n",
    "    \"\"\"\n",
    "    Apply convolution then max pooling to x_tensor\n",
    "    :param x_tensor: TensorFlow Tensor\n",
    "    :param conv_num_outputs: Number of outputs for the convolutional layer\n",
    "    :param conv_strides: Stride 2-D Tuple for convolution\n",
    "    :param pool_ksize: kernal size 2-D Tuple for pool\n",
    "    :param pool_strides: Stride 2-D Tuple for pool\n",
    "    : return: A tensor that represents convolution and max pooling of x_tensor\n",
    "    \"\"\"\n",
    "    # TODO: Implement Function\n",
    "    \n",
    "    #!!!slack\n",
    "    weight = tf.Variable(tf.random_normal([conv_ksize[0], \n",
    "                                           conv_ksize[1], \n",
    "                                           x_tensor.get_shape().as_list()[-1], \n",
    "                                           conv_num_outputs], \n",
    "                                           stddev=1e-3))\n",
    "    bias = tf.Variable(tf.random_normal([conv_num_outputs]))\n",
    "    layer = tf.add(tf.nn.conv2d(x_tensor, \n",
    "                                weight, \n",
    "                                [1, conv_strides[0], conv_strides[1], 1], \n",
    "                                'SAME'), bias)\n",
    "    layer = tf.nn.relu(layer)\n",
    "    maxpool = tf.nn.max_pool(layer,\n",
    "                             [1, pool_ksize[0], pool_ksize[1], 1],\n",
    "                             [1, pool_strides[0], pool_strides[1], 1],\n",
    "                            'SAME')\n",
    "    \n",
    "    return maxpool\n",
    "\n",
    "\n",
    "\"\"\"\n",
    "DON'T MODIFY ANYTHING IN THIS CELL THAT IS BELOW THIS LINE\n",
    "\"\"\"\n",
    "tests.test_con_pool(conv2d_maxpool)"
   ]
  },
  {
   "cell_type": "markdown",
   "metadata": {},
   "source": [
    "### Flatten Layer\n",
    "Implement the `flatten` function to change the dimension of `x_tensor` from a 4-D tensor to a 2-D tensor.  The output should be the shape (*Batch Size*, *Flattened Image Size*). You can use [TensorFlow Layers](https://www.tensorflow.org/api_docs/python/tf/layers) or [TensorFlow Layers (contrib)](https://www.tensorflow.org/api_guides/python/contrib.layers) for this layer."
   ]
  },
  {
   "cell_type": "code",
   "execution_count": 9,
   "metadata": {
    "collapsed": false
   },
   "outputs": [
    {
     "name": "stdout",
     "output_type": "stream",
     "text": [
      "Tests Passed\n"
     ]
    }
   ],
   "source": [
    "def flatten(x_tensor):\n",
    "    \"\"\"\n",
    "    Flatten x_tensor to (Batch Size, Flattened Image Size)\n",
    "    : x_tensor: A tensor of size (Batch Size, ...), where ... are the image dimensions.\n",
    "    : return: A tensor of size (Batch Size, Flattened Image Size).\n",
    "    \"\"\"\n",
    "    # TODO: Implement Function\n",
    "    #!!!\n",
    "    flatten_x = tf.contrib.layers.flatten(x_tensor)\n",
    "    return flatten_x\n",
    "\n",
    "\n",
    "\"\"\"\n",
    "DON'T MODIFY ANYTHING IN THIS CELL THAT IS BELOW THIS LINE\n",
    "\"\"\"\n",
    "tests.test_flatten(flatten)"
   ]
  },
  {
   "cell_type": "markdown",
   "metadata": {},
   "source": [
    "### Fully-Connected Layer\n",
    "Implement the `fully_conn` function to apply a fully connected layer to `x_tensor` with the shape (*Batch Size*, *num_outputs*). You can use [TensorFlow Layers](https://www.tensorflow.org/api_docs/python/tf/layers) or [TensorFlow Layers (contrib)](https://www.tensorflow.org/api_guides/python/contrib.layers) for this layer."
   ]
  },
  {
   "cell_type": "code",
   "execution_count": 10,
   "metadata": {
    "collapsed": false
   },
   "outputs": [
    {
     "name": "stdout",
     "output_type": "stream",
     "text": [
      "Tests Passed\n"
     ]
    }
   ],
   "source": [
    "def fully_conn(x_tensor, num_outputs):\n",
    "    \"\"\"\n",
    "    Apply a fully connected layer to x_tensor using weight and bias\n",
    "    : x_tensor: A 2-D tensor where the first dimension is batch size.\n",
    "    : num_outputs: The number of output that the new tensor should be.\n",
    "    : return: A 2-D tensor where the second dimension is num_outputs.\n",
    "    \"\"\"\n",
    "    # TODO: Implement Function\n",
    "    #!!!\n",
    "    weight = tf.Variable(tf.random_normal([x_tensor.get_shape().as_list()[1], num_outputs], stddev=1e-3))\n",
    "    bias = tf.Variable(tf.random_normal([num_outputs]))\n",
    "    fully = tf.nn.relu(tf.add(tf.matmul(x_tensor, weight), bias))\n",
    "    return fully\n",
    "\n",
    "\n",
    "\"\"\"\n",
    "DON'T MODIFY ANYTHING IN THIS CELL THAT IS BELOW THIS LINE\n",
    "\"\"\"\n",
    "tests.test_fully_conn(fully_conn)"
   ]
  },
  {
   "cell_type": "markdown",
   "metadata": {},
   "source": [
    "### Output Layer\n",
    "Implement the `output` function to apply a fully connected layer to `x_tensor` with the shape (*Batch Size*, *num_outputs*). You can use [TensorFlow Layers](https://www.tensorflow.org/api_docs/python/tf/layers) or [TensorFlow Layers (contrib)](https://www.tensorflow.org/api_guides/python/contrib.layers) for this layer.\n",
    "\n",
    "Note: Activation, softmax, or cross entropy shouldn't be applied to this."
   ]
  },
  {
   "cell_type": "code",
   "execution_count": 11,
   "metadata": {
    "collapsed": false
   },
   "outputs": [
    {
     "name": "stdout",
     "output_type": "stream",
     "text": [
      "Tests Passed\n"
     ]
    }
   ],
   "source": [
    "def output(x_tensor, num_outputs):\n",
    "    \"\"\"\n",
    "    Apply a output layer to x_tensor using weight and bias\n",
    "    : x_tensor: A 2-D tensor where the first dimension is batch size.\n",
    "    : num_outputs: The number of output that the new tensor should be.\n",
    "    : return: A 2-D tensor where the second dimension is num_outputs.\n",
    "    \"\"\"\n",
    "    # TODO: Implement Function\n",
    "    #！！！\n",
    "    weight = tf.Variable(tf.random_normal([x_tensor.get_shape().as_list()[1], num_outputs], stddev=1e-3))\n",
    "    bias = tf.Variable(tf.random_normal([num_outputs]))\n",
    "    output = tf.add(tf.matmul(x_tensor, weight), bias)\n",
    "    return output\n",
    "\n",
    "\n",
    "\"\"\"\n",
    "DON'T MODIFY ANYTHING IN THIS CELL THAT IS BELOW THIS LINE\n",
    "\"\"\"\n",
    "tests.test_output(output)"
   ]
  },
  {
   "cell_type": "markdown",
   "metadata": {},
   "source": [
    "### Create Convolutional Model\n",
    "Implement the function `conv_net` to create a convolutional neural network model. The function takes in a batch of images, `x`, and outputs logits.  Use the layers you created above to create this model:\n",
    "\n",
    "* Apply 1, 2, or 3 Convolution and Max Pool layers\n",
    "* Apply a Flatten Layer\n",
    "* Apply 1, 2, or 3 Fully Connected Layers\n",
    "* Apply an Output Layer\n",
    "* Return the output\n",
    "* Apply [TensorFlow's Dropout](https://www.tensorflow.org/api_docs/python/tf/nn/dropout) to one or more layers in the model using `keep_prob`. "
   ]
  },
  {
   "cell_type": "code",
   "execution_count": 12,
   "metadata": {
    "collapsed": false
   },
   "outputs": [
    {
     "name": "stdout",
     "output_type": "stream",
     "text": [
      "Neural Network Built!\n"
     ]
    }
   ],
   "source": [
    "def conv_net(x, keep_prob):\n",
    "    \"\"\"\n",
    "    Create a convolutional neural network model\n",
    "    : x: Placeholder tensor that holds image data.\n",
    "    : keep_prob: Placeholder tensor that hold dropout keep probability.\n",
    "    : return: Tensor that represents logits\n",
    "    \"\"\"\n",
    "    # TODO: Apply 1, 2, or 3 Convolution and Max Pool layers\n",
    "    #    Play around with different number of outputs, kernel size and stride\n",
    "    # Function Definition from Above:\n",
    "    #    conv2d_maxpool(x_tensor, conv_num_outputs, conv_ksize, conv_strides, pool_ksize, pool_strides)\n",
    "    \n",
    "    # !!!\n",
    "    layer = conv2d_maxpool(x, 32, (16,16), (2,2), (2,2), (2,2))\n",
    "    layer = conv2d_maxpool(layer, 64, (8,8), (2,2), (2,2), (2,2))\n",
    "    # layer = conv2d_maxpool(layer, 128, (4,4), (1,1), (2,2), (1,1))\n",
    "\n",
    "    # TODO: Apply a Flatten Layer\n",
    "    # Function Definition from Above:\n",
    "    #   flatten(x_tensor)\n",
    "    \n",
    "    #!!!\n",
    "    layer = flatten(layer)\n",
    "\n",
    "    # TODO: Apply 1, 2, or 3 Fully Connected Layers\n",
    "    #    Play around with different number of outputs\n",
    "    # Function Definition from Above:\n",
    "    #   fully_conn(x_tensor, num_outputs)\n",
    "    \n",
    "    #!!!\n",
    "    layer = fully_conn(layer, 256)\n",
    "    layer = tf.nn.dropout(layer, keep_prob)\n",
    "    layer = fully_conn(layer, 512)\n",
    "    \n",
    "    # TODO: Apply an Output Layer\n",
    "    #    Set this to the number of classes\n",
    "    # Function Definition from Above:\n",
    "    #   output(x_tensor, num_outputs)\n",
    "    \n",
    "    #!!!\n",
    "    layer = output(layer, 10)\n",
    "    \n",
    "    # TODO: return output\n",
    "    return layer\n",
    "\n",
    "\n",
    "\"\"\"\n",
    "DON'T MODIFY ANYTHING IN THIS CELL THAT IS BELOW THIS LINE\n",
    "\"\"\"\n",
    "\n",
    "##############################\n",
    "## Build the Neural Network ##\n",
    "##############################\n",
    "\n",
    "# Remove previous weights, bias, inputs, etc..\n",
    "tf.reset_default_graph()\n",
    "\n",
    "# Inputs\n",
    "x = neural_net_image_input((32, 32, 3))\n",
    "y = neural_net_label_input(10)\n",
    "keep_prob = neural_net_keep_prob_input()\n",
    "\n",
    "# Model\n",
    "logits = conv_net(x, keep_prob)\n",
    "\n",
    "# Name logits Tensor, so that is can be loaded from disk after training\n",
    "logits = tf.identity(logits, name='logits')\n",
    "\n",
    "# Loss and Optimizer\n",
    "cost = tf.reduce_mean(tf.nn.softmax_cross_entropy_with_logits(logits=logits, labels=y))\n",
    "optimizer = tf.train.AdamOptimizer().minimize(cost)\n",
    "\n",
    "# Accuracy\n",
    "correct_pred = tf.equal(tf.argmax(logits, 1), tf.argmax(y, 1))\n",
    "accuracy = tf.reduce_mean(tf.cast(correct_pred, tf.float32), name='accuracy')\n",
    "\n",
    "tests.test_conv_net(conv_net)"
   ]
  },
  {
   "cell_type": "markdown",
   "metadata": {},
   "source": [
    "## Train the Neural Network\n",
    "### Single Optimization\n",
    "Implement the function `train_neural_network` to do a single optimization.  The optimization should use `optimizer` to optimize in `session` with a `feed_dict` of the following:\n",
    "* `x` for image input\n",
    "* `y` for labels\n",
    "* `keep_prob` for keep probability for dropout\n",
    "\n",
    "This function will be called for each batch, so `tf.global_variables_initializer()` has already been called.\n",
    "\n",
    "Note: Nothing needs to be returned. This function is only optimizing the neural network."
   ]
  },
  {
   "cell_type": "code",
   "execution_count": 13,
   "metadata": {
    "collapsed": false
   },
   "outputs": [
    {
     "name": "stdout",
     "output_type": "stream",
     "text": [
      "Tests Passed\n"
     ]
    }
   ],
   "source": [
    "def train_neural_network(session, optimizer, keep_probability, feature_batch, label_batch):\n",
    "    \"\"\"\n",
    "    Optimize the session on a batch of images and labels\n",
    "    : session: Current TensorFlow session\n",
    "    : optimizer: TensorFlow optimizer function\n",
    "    : keep_probability: keep probability\n",
    "    : feature_batch: Batch of Numpy image data\n",
    "    : label_batch: Batch of Numpy label data\n",
    "    \"\"\"\n",
    "    # TODO: Implement Function\n",
    "    \n",
    "    #!!!\n",
    "    session.run(optimizer, \n",
    "                feed_dict={\n",
    "                    x:feature_batch, \n",
    "                    y:label_batch, \n",
    "                    keep_prob:keep_probability})\n",
    "    pass\n",
    "\n",
    "\n",
    "\n",
    "\"\"\"\n",
    "DON'T MODIFY ANYTHING IN THIS CELL THAT IS BELOW THIS LINE\n",
    "\"\"\"\n",
    "tests.test_train_nn(train_neural_network)"
   ]
  },
  {
   "cell_type": "markdown",
   "metadata": {},
   "source": [
    "### Show Stats\n",
    "Implement the function `print_stats` to print loss and validation accuracy.  Use the global variables `valid_features` and `valid_labels` to calculate validation accuracy.  Use a keep probability of `1.0` to calculate the loss and validation accuracy."
   ]
  },
  {
   "cell_type": "code",
   "execution_count": 14,
   "metadata": {
    "collapsed": false
   },
   "outputs": [],
   "source": [
    "def print_stats(session, feature_batch, label_batch, cost, accuracy):\n",
    "    \"\"\"\n",
    "    Print information about loss and validation accuracy\n",
    "    : session: Current TensorFlow session\n",
    "    : feature_batch: Batch of Numpy image data\n",
    "    : label_batch: Batch of Numpy label data\n",
    "    : cost: TensorFlow cost function\n",
    "    : accuracy: TensorFlow accuracy function\n",
    "    \"\"\"\n",
    "    # TODO: Implement Function\n",
    "    #!!! learn from slack\n",
    "    loss = session.run(cost, feed_dict={\n",
    "            x: feature_batch,\n",
    "            y: label_batch,\n",
    "            keep_prob: 1.})\n",
    "    train_acc = session.run(accuracy, feed_dict={\n",
    "            x: feature_batch,\n",
    "            y: label_batch,\n",
    "            keep_prob: 1.})\n",
    "    valid_acc = session.run(accuracy, feed_dict={\n",
    "            x: valid_features[:batch_size],\n",
    "            y: valid_labels[:batch_size],\n",
    "            keep_prob: 1.})\n",
    "        \n",
    "    print('Loss: {:>10.4f} Training Accuracy: {:.6f} Validation Accuracy: {:.6f}'.format(loss, train_acc, valid_acc))\n",
    "    pass"
   ]
  },
  {
   "cell_type": "markdown",
   "metadata": {},
   "source": [
    "### Hyperparameters\n",
    "Tune the following parameters:\n",
    "* Set `epochs` to the number of iterations until the network stops learning or start overfitting\n",
    "* Set `batch_size` to the highest number that your machine has memory for.  Most people set them to common sizes of memory:\n",
    " * 64\n",
    " * 128\n",
    " * 256\n",
    " * ...\n",
    "* Set `keep_probability` to the probability of keeping a node using dropout"
   ]
  },
  {
   "cell_type": "code",
   "execution_count": 15,
   "metadata": {
    "collapsed": true
   },
   "outputs": [],
   "source": [
    "# TODO: Tune Parameters\n",
    "epochs = 30\n",
    "batch_size = 512\n",
    "keep_probability = 0.8"
   ]
  },
  {
   "cell_type": "markdown",
   "metadata": {},
   "source": [
    "### Train on a Single CIFAR-10 Batch\n",
    "Instead of training the neural network on all the CIFAR-10 batches of data, let's use a single batch. This should save time while you iterate on the model to get a better accuracy.  Once the final validation accuracy is 50% or greater, run the model on all the data in the next section."
   ]
  },
  {
   "cell_type": "code",
   "execution_count": 16,
   "metadata": {
    "collapsed": false
   },
   "outputs": [
    {
     "name": "stdout",
     "output_type": "stream",
     "text": [
      "Checking the Training on a Single Batch...\n",
      "Epoch  1, CIFAR-10 Batch 1:  Loss:     2.3114 Training Accuracy: 0.097973 Validation Accuracy: 0.113281\n",
      "Epoch  2, CIFAR-10 Batch 1:  Loss:     2.3095 Training Accuracy: 0.114865 Validation Accuracy: 0.091797\n",
      "Epoch  3, CIFAR-10 Batch 1:  Loss:     2.3126 Training Accuracy: 0.114865 Validation Accuracy: 0.091797\n",
      "Epoch  4, CIFAR-10 Batch 1:  Loss:     2.3079 Training Accuracy: 0.114865 Validation Accuracy: 0.091797\n",
      "Epoch  5, CIFAR-10 Batch 1:  Loss:     2.2704 Training Accuracy: 0.121622 Validation Accuracy: 0.107422\n",
      "Epoch  6, CIFAR-10 Batch 1:  Loss:     2.1439 Training Accuracy: 0.182432 Validation Accuracy: 0.193359\n",
      "Epoch  7, CIFAR-10 Batch 1:  Loss:     2.1424 Training Accuracy: 0.172297 Validation Accuracy: 0.203125\n",
      "Epoch  8, CIFAR-10 Batch 1:  Loss:     2.1169 Training Accuracy: 0.168919 Validation Accuracy: 0.207031\n",
      "Epoch  9, CIFAR-10 Batch 1:  Loss:     2.1043 Training Accuracy: 0.199324 Validation Accuracy: 0.224609\n",
      "Epoch 10, CIFAR-10 Batch 1:  Loss:     2.0868 Training Accuracy: 0.219595 Validation Accuracy: 0.234375\n",
      "Epoch 11, CIFAR-10 Batch 1:  Loss:     2.0634 Training Accuracy: 0.216216 Validation Accuracy: 0.212891\n",
      "Epoch 12, CIFAR-10 Batch 1:  Loss:     1.9962 Training Accuracy: 0.209459 Validation Accuracy: 0.251953\n",
      "Epoch 13, CIFAR-10 Batch 1:  Loss:     1.9443 Training Accuracy: 0.260135 Validation Accuracy: 0.275391\n",
      "Epoch 14, CIFAR-10 Batch 1:  Loss:     1.8962 Training Accuracy: 0.273649 Validation Accuracy: 0.277344\n",
      "Epoch 15, CIFAR-10 Batch 1:  Loss:     1.8731 Training Accuracy: 0.290541 Validation Accuracy: 0.285156\n",
      "Epoch 16, CIFAR-10 Batch 1:  Loss:     1.8008 Training Accuracy: 0.310811 Validation Accuracy: 0.291016\n",
      "Epoch 17, CIFAR-10 Batch 1:  Loss:     1.7883 Training Accuracy: 0.300676 Validation Accuracy: 0.292969\n",
      "Epoch 18, CIFAR-10 Batch 1:  Loss:     1.7466 Training Accuracy: 0.354730 Validation Accuracy: 0.351562\n",
      "Epoch 19, CIFAR-10 Batch 1:  Loss:     1.6954 Training Accuracy: 0.351351 Validation Accuracy: 0.353516\n",
      "Epoch 20, CIFAR-10 Batch 1:  Loss:     1.6814 Training Accuracy: 0.358108 Validation Accuracy: 0.353516\n",
      "Epoch 21, CIFAR-10 Batch 1:  Loss:     1.6298 Training Accuracy: 0.364865 Validation Accuracy: 0.363281\n",
      "Epoch 22, CIFAR-10 Batch 1:  Loss:     1.6021 Training Accuracy: 0.364865 Validation Accuracy: 0.349609\n",
      "Epoch 23, CIFAR-10 Batch 1:  Loss:     1.5739 Training Accuracy: 0.381757 Validation Accuracy: 0.357422\n",
      "Epoch 24, CIFAR-10 Batch 1:  Loss:     1.4974 Training Accuracy: 0.415541 Validation Accuracy: 0.388672\n",
      "Epoch 25, CIFAR-10 Batch 1:  Loss:     1.4455 Training Accuracy: 0.425676 Validation Accuracy: 0.390625\n",
      "Epoch 26, CIFAR-10 Batch 1:  Loss:     1.4004 Training Accuracy: 0.476351 Validation Accuracy: 0.386719\n",
      "Epoch 27, CIFAR-10 Batch 1:  Loss:     1.3806 Training Accuracy: 0.496622 Validation Accuracy: 0.392578\n",
      "Epoch 28, CIFAR-10 Batch 1:  Loss:     1.3686 Training Accuracy: 0.483108 Validation Accuracy: 0.398438\n",
      "Epoch 29, CIFAR-10 Batch 1:  Loss:     1.3119 Training Accuracy: 0.520270 Validation Accuracy: 0.406250\n",
      "Epoch 30, CIFAR-10 Batch 1:  Loss:     1.2702 Training Accuracy: 0.503378 Validation Accuracy: 0.410156\n"
     ]
    }
   ],
   "source": [
    "\"\"\"\n",
    "DON'T MODIFY ANYTHING IN THIS CELL\n",
    "\"\"\"\n",
    "print('Checking the Training on a Single Batch...')\n",
    "with tf.Session() as sess:\n",
    "    # Initializing the variables\n",
    "    sess.run(tf.global_variables_initializer())\n",
    "    \n",
    "    # Training cycle\n",
    "    for epoch in range(epochs):\n",
    "        batch_i = 1\n",
    "        for batch_features, batch_labels in helper.load_preprocess_training_batch(batch_i, batch_size):\n",
    "            train_neural_network(sess, optimizer, keep_probability, batch_features, batch_labels)\n",
    "        print('Epoch {:>2}, CIFAR-10 Batch {}:  '.format(epoch + 1, batch_i), end='')\n",
    "        print_stats(sess, batch_features, batch_labels, cost, accuracy)"
   ]
  },
  {
   "cell_type": "markdown",
   "metadata": {},
   "source": [
    "### Fully Train the Model\n",
    "Now that you got a good accuracy with a single CIFAR-10 batch, try it with all five batches."
   ]
  },
  {
   "cell_type": "code",
   "execution_count": 17,
   "metadata": {
    "collapsed": false
   },
   "outputs": [
    {
     "name": "stdout",
     "output_type": "stream",
     "text": [
      "Training...\n",
      "Epoch  1, CIFAR-10 Batch 1:  Loss:     2.3060 Training Accuracy: 0.097973 Validation Accuracy: 0.113281\n",
      "Epoch  1, CIFAR-10 Batch 2:  Loss:     2.3044 Training Accuracy: 0.101351 Validation Accuracy: 0.097656\n",
      "Epoch  1, CIFAR-10 Batch 3:  Loss:     2.2873 Training Accuracy: 0.125000 Validation Accuracy: 0.111328\n",
      "Epoch  1, CIFAR-10 Batch 4:  Loss:     2.2987 Training Accuracy: 0.101351 Validation Accuracy: 0.119141\n",
      "Epoch  1, CIFAR-10 Batch 5:  Loss:     2.2541 Training Accuracy: 0.148649 Validation Accuracy: 0.121094\n",
      "Epoch  2, CIFAR-10 Batch 1:  Loss:     2.2362 Training Accuracy: 0.155405 Validation Accuracy: 0.150391\n",
      "Epoch  2, CIFAR-10 Batch 2:  Loss:     2.2072 Training Accuracy: 0.141892 Validation Accuracy: 0.140625\n",
      "Epoch  2, CIFAR-10 Batch 3:  Loss:     2.1191 Training Accuracy: 0.199324 Validation Accuracy: 0.123047\n",
      "Epoch  2, CIFAR-10 Batch 4:  Loss:     2.1068 Training Accuracy: 0.168919 Validation Accuracy: 0.171875\n",
      "Epoch  2, CIFAR-10 Batch 5:  Loss:     2.0901 Training Accuracy: 0.152027 Validation Accuracy: 0.156250\n",
      "Epoch  3, CIFAR-10 Batch 1:  Loss:     2.0883 Training Accuracy: 0.199324 Validation Accuracy: 0.212891\n",
      "Epoch  3, CIFAR-10 Batch 2:  Loss:     1.9780 Training Accuracy: 0.239865 Validation Accuracy: 0.207031\n",
      "Epoch  3, CIFAR-10 Batch 3:  Loss:     1.9437 Training Accuracy: 0.270270 Validation Accuracy: 0.199219\n",
      "Epoch  3, CIFAR-10 Batch 4:  Loss:     1.9091 Training Accuracy: 0.229730 Validation Accuracy: 0.240234\n",
      "Epoch  3, CIFAR-10 Batch 5:  Loss:     1.9434 Training Accuracy: 0.229730 Validation Accuracy: 0.232422\n",
      "Epoch  4, CIFAR-10 Batch 1:  Loss:     1.9015 Training Accuracy: 0.270270 Validation Accuracy: 0.263672\n",
      "Epoch  4, CIFAR-10 Batch 2:  Loss:     1.8445 Training Accuracy: 0.297297 Validation Accuracy: 0.267578\n",
      "Epoch  4, CIFAR-10 Batch 3:  Loss:     1.6912 Training Accuracy: 0.371622 Validation Accuracy: 0.265625\n",
      "Epoch  4, CIFAR-10 Batch 4:  Loss:     1.7241 Training Accuracy: 0.351351 Validation Accuracy: 0.294922\n",
      "Epoch  4, CIFAR-10 Batch 5:  Loss:     1.7627 Training Accuracy: 0.320946 Validation Accuracy: 0.302734\n",
      "Epoch  5, CIFAR-10 Batch 1:  Loss:     1.7765 Training Accuracy: 0.331081 Validation Accuracy: 0.333984\n",
      "Epoch  5, CIFAR-10 Batch 2:  Loss:     1.6931 Training Accuracy: 0.358108 Validation Accuracy: 0.371094\n",
      "Epoch  5, CIFAR-10 Batch 3:  Loss:     1.5197 Training Accuracy: 0.418919 Validation Accuracy: 0.355469\n",
      "Epoch  5, CIFAR-10 Batch 4:  Loss:     1.5761 Training Accuracy: 0.408784 Validation Accuracy: 0.365234\n",
      "Epoch  5, CIFAR-10 Batch 5:  Loss:     1.6093 Training Accuracy: 0.415541 Validation Accuracy: 0.365234\n",
      "Epoch  6, CIFAR-10 Batch 1:  Loss:     1.6387 Training Accuracy: 0.381757 Validation Accuracy: 0.417969\n",
      "Epoch  6, CIFAR-10 Batch 2:  Loss:     1.6052 Training Accuracy: 0.395270 Validation Accuracy: 0.380859\n",
      "Epoch  6, CIFAR-10 Batch 3:  Loss:     1.4355 Training Accuracy: 0.435811 Validation Accuracy: 0.363281\n",
      "Epoch  6, CIFAR-10 Batch 4:  Loss:     1.4837 Training Accuracy: 0.445946 Validation Accuracy: 0.396484\n",
      "Epoch  6, CIFAR-10 Batch 5:  Loss:     1.5205 Training Accuracy: 0.445946 Validation Accuracy: 0.400391\n",
      "Epoch  7, CIFAR-10 Batch 1:  Loss:     1.5814 Training Accuracy: 0.412162 Validation Accuracy: 0.441406\n",
      "Epoch  7, CIFAR-10 Batch 2:  Loss:     1.5219 Training Accuracy: 0.435811 Validation Accuracy: 0.423828\n",
      "Epoch  7, CIFAR-10 Batch 3:  Loss:     1.3457 Training Accuracy: 0.479730 Validation Accuracy: 0.406250\n",
      "Epoch  7, CIFAR-10 Batch 4:  Loss:     1.4001 Training Accuracy: 0.513514 Validation Accuracy: 0.433594\n",
      "Epoch  7, CIFAR-10 Batch 5:  Loss:     1.4483 Training Accuracy: 0.472973 Validation Accuracy: 0.431641\n",
      "Epoch  8, CIFAR-10 Batch 1:  Loss:     1.5289 Training Accuracy: 0.418919 Validation Accuracy: 0.451172\n",
      "Epoch  8, CIFAR-10 Batch 2:  Loss:     1.4464 Training Accuracy: 0.462838 Validation Accuracy: 0.439453\n",
      "Epoch  8, CIFAR-10 Batch 3:  Loss:     1.2861 Training Accuracy: 0.513514 Validation Accuracy: 0.437500\n",
      "Epoch  8, CIFAR-10 Batch 4:  Loss:     1.3291 Training Accuracy: 0.527027 Validation Accuracy: 0.466797\n",
      "Epoch  8, CIFAR-10 Batch 5:  Loss:     1.4044 Training Accuracy: 0.503378 Validation Accuracy: 0.435547\n",
      "Epoch  9, CIFAR-10 Batch 1:  Loss:     1.4917 Training Accuracy: 0.418919 Validation Accuracy: 0.480469\n",
      "Epoch  9, CIFAR-10 Batch 2:  Loss:     1.3830 Training Accuracy: 0.500000 Validation Accuracy: 0.451172\n",
      "Epoch  9, CIFAR-10 Batch 3:  Loss:     1.2641 Training Accuracy: 0.516892 Validation Accuracy: 0.458984\n",
      "Epoch  9, CIFAR-10 Batch 4:  Loss:     1.2796 Training Accuracy: 0.547297 Validation Accuracy: 0.490234\n",
      "Epoch  9, CIFAR-10 Batch 5:  Loss:     1.3605 Training Accuracy: 0.503378 Validation Accuracy: 0.458984\n",
      "Epoch 10, CIFAR-10 Batch 1:  Loss:     1.4357 Training Accuracy: 0.459459 Validation Accuracy: 0.500000\n",
      "Epoch 10, CIFAR-10 Batch 2:  Loss:     1.3143 Training Accuracy: 0.523649 Validation Accuracy: 0.472656\n",
      "Epoch 10, CIFAR-10 Batch 3:  Loss:     1.2107 Training Accuracy: 0.527027 Validation Accuracy: 0.492188\n",
      "Epoch 10, CIFAR-10 Batch 4:  Loss:     1.2193 Training Accuracy: 0.564189 Validation Accuracy: 0.494141\n",
      "Epoch 10, CIFAR-10 Batch 5:  Loss:     1.3256 Training Accuracy: 0.523649 Validation Accuracy: 0.488281\n",
      "Epoch 11, CIFAR-10 Batch 1:  Loss:     1.3919 Training Accuracy: 0.483108 Validation Accuracy: 0.511719\n",
      "Epoch 11, CIFAR-10 Batch 2:  Loss:     1.2747 Training Accuracy: 0.533784 Validation Accuracy: 0.490234\n",
      "Epoch 11, CIFAR-10 Batch 3:  Loss:     1.1674 Training Accuracy: 0.564189 Validation Accuracy: 0.498047\n",
      "Epoch 11, CIFAR-10 Batch 4:  Loss:     1.1654 Training Accuracy: 0.577703 Validation Accuracy: 0.505859\n",
      "Epoch 11, CIFAR-10 Batch 5:  Loss:     1.2911 Training Accuracy: 0.543919 Validation Accuracy: 0.498047\n",
      "Epoch 12, CIFAR-10 Batch 1:  Loss:     1.3411 Training Accuracy: 0.496622 Validation Accuracy: 0.507812\n",
      "Epoch 12, CIFAR-10 Batch 2:  Loss:     1.2324 Training Accuracy: 0.550676 Validation Accuracy: 0.500000\n",
      "Epoch 12, CIFAR-10 Batch 3:  Loss:     1.1350 Training Accuracy: 0.550676 Validation Accuracy: 0.515625\n",
      "Epoch 12, CIFAR-10 Batch 4:  Loss:     1.1217 Training Accuracy: 0.601351 Validation Accuracy: 0.513672\n",
      "Epoch 12, CIFAR-10 Batch 5:  Loss:     1.2589 Training Accuracy: 0.550676 Validation Accuracy: 0.492188\n",
      "Epoch 13, CIFAR-10 Batch 1:  Loss:     1.2922 Training Accuracy: 0.516892 Validation Accuracy: 0.517578\n",
      "Epoch 13, CIFAR-10 Batch 2:  Loss:     1.1690 Training Accuracy: 0.570946 Validation Accuracy: 0.515625\n",
      "Epoch 13, CIFAR-10 Batch 3:  Loss:     1.0976 Training Accuracy: 0.570946 Validation Accuracy: 0.511719\n",
      "Epoch 13, CIFAR-10 Batch 4:  Loss:     1.0967 Training Accuracy: 0.604730 Validation Accuracy: 0.519531\n",
      "Epoch 13, CIFAR-10 Batch 5:  Loss:     1.2211 Training Accuracy: 0.584459 Validation Accuracy: 0.501953\n",
      "Epoch 14, CIFAR-10 Batch 1:  Loss:     1.2498 Training Accuracy: 0.533784 Validation Accuracy: 0.515625\n",
      "Epoch 14, CIFAR-10 Batch 2:  Loss:     1.1470 Training Accuracy: 0.577703 Validation Accuracy: 0.513672\n",
      "Epoch 14, CIFAR-10 Batch 3:  Loss:     1.0679 Training Accuracy: 0.597973 Validation Accuracy: 0.533203\n",
      "Epoch 14, CIFAR-10 Batch 4:  Loss:     1.0408 Training Accuracy: 0.631757 Validation Accuracy: 0.521484\n",
      "Epoch 14, CIFAR-10 Batch 5:  Loss:     1.1863 Training Accuracy: 0.587838 Validation Accuracy: 0.509766\n",
      "Epoch 15, CIFAR-10 Batch 1:  Loss:     1.1990 Training Accuracy: 0.567568 Validation Accuracy: 0.517578\n",
      "Epoch 15, CIFAR-10 Batch 2:  Loss:     1.1219 Training Accuracy: 0.601351 Validation Accuracy: 0.511719\n",
      "Epoch 15, CIFAR-10 Batch 3:  Loss:     1.0398 Training Accuracy: 0.604730 Validation Accuracy: 0.535156\n",
      "Epoch 15, CIFAR-10 Batch 4:  Loss:     1.0029 Training Accuracy: 0.631757 Validation Accuracy: 0.537109\n",
      "Epoch 15, CIFAR-10 Batch 5:  Loss:     1.1382 Training Accuracy: 0.597973 Validation Accuracy: 0.523438\n",
      "Epoch 16, CIFAR-10 Batch 1:  Loss:     1.1706 Training Accuracy: 0.584459 Validation Accuracy: 0.546875\n",
      "Epoch 16, CIFAR-10 Batch 2:  Loss:     1.0919 Training Accuracy: 0.631757 Validation Accuracy: 0.515625\n",
      "Epoch 16, CIFAR-10 Batch 3:  Loss:     1.0103 Training Accuracy: 0.618243 Validation Accuracy: 0.552734\n",
      "Epoch 16, CIFAR-10 Batch 4:  Loss:     0.9987 Training Accuracy: 0.648649 Validation Accuracy: 0.527344\n",
      "Epoch 16, CIFAR-10 Batch 5:  Loss:     1.1219 Training Accuracy: 0.608108 Validation Accuracy: 0.507812\n",
      "Epoch 17, CIFAR-10 Batch 1:  Loss:     1.1490 Training Accuracy: 0.587838 Validation Accuracy: 0.541016\n",
      "Epoch 17, CIFAR-10 Batch 2:  Loss:     1.0600 Training Accuracy: 0.648649 Validation Accuracy: 0.521484\n",
      "Epoch 17, CIFAR-10 Batch 3:  Loss:     0.9945 Training Accuracy: 0.631757 Validation Accuracy: 0.560547\n",
      "Epoch 17, CIFAR-10 Batch 4:  Loss:     0.9672 Training Accuracy: 0.652027 Validation Accuracy: 0.527344\n",
      "Epoch 17, CIFAR-10 Batch 5:  Loss:     1.0856 Training Accuracy: 0.621622 Validation Accuracy: 0.507812\n",
      "Epoch 18, CIFAR-10 Batch 1:  Loss:     1.1139 Training Accuracy: 0.611486 Validation Accuracy: 0.541016\n",
      "Epoch 18, CIFAR-10 Batch 2:  Loss:     1.0378 Training Accuracy: 0.652027 Validation Accuracy: 0.535156\n",
      "Epoch 18, CIFAR-10 Batch 3:  Loss:     0.9709 Training Accuracy: 0.641892 Validation Accuracy: 0.533203\n",
      "Epoch 18, CIFAR-10 Batch 4:  Loss:     0.9473 Training Accuracy: 0.665541 Validation Accuracy: 0.539062\n",
      "Epoch 18, CIFAR-10 Batch 5:  Loss:     1.0565 Training Accuracy: 0.625000 Validation Accuracy: 0.517578\n",
      "Epoch 19, CIFAR-10 Batch 1:  Loss:     1.0865 Training Accuracy: 0.641892 Validation Accuracy: 0.527344\n",
      "Epoch 19, CIFAR-10 Batch 2:  Loss:     1.0023 Training Accuracy: 0.638514 Validation Accuracy: 0.535156\n",
      "Epoch 19, CIFAR-10 Batch 3:  Loss:     0.9497 Training Accuracy: 0.641892 Validation Accuracy: 0.539062\n",
      "Epoch 19, CIFAR-10 Batch 4:  Loss:     0.9304 Training Accuracy: 0.658784 Validation Accuracy: 0.521484\n",
      "Epoch 19, CIFAR-10 Batch 5:  Loss:     1.0146 Training Accuracy: 0.665541 Validation Accuracy: 0.521484\n",
      "Epoch 20, CIFAR-10 Batch 1:  Loss:     1.0549 Training Accuracy: 0.652027 Validation Accuracy: 0.544922\n",
      "Epoch 20, CIFAR-10 Batch 2:  Loss:     0.9869 Training Accuracy: 0.645270 Validation Accuracy: 0.533203\n",
      "Epoch 20, CIFAR-10 Batch 3:  Loss:     0.9367 Training Accuracy: 0.652027 Validation Accuracy: 0.533203\n",
      "Epoch 20, CIFAR-10 Batch 4:  Loss:     0.9211 Training Accuracy: 0.675676 Validation Accuracy: 0.523438\n",
      "Epoch 20, CIFAR-10 Batch 5:  Loss:     0.9947 Training Accuracy: 0.675676 Validation Accuracy: 0.517578\n",
      "Epoch 21, CIFAR-10 Batch 1:  Loss:     1.0273 Training Accuracy: 0.665541 Validation Accuracy: 0.556641\n",
      "Epoch 21, CIFAR-10 Batch 2:  Loss:     0.9758 Training Accuracy: 0.672297 Validation Accuracy: 0.535156\n",
      "Epoch 21, CIFAR-10 Batch 3:  Loss:     0.8810 Training Accuracy: 0.679054 Validation Accuracy: 0.541016\n",
      "Epoch 21, CIFAR-10 Batch 4:  Loss:     0.9140 Training Accuracy: 0.682432 Validation Accuracy: 0.527344\n",
      "Epoch 21, CIFAR-10 Batch 5:  Loss:     1.0015 Training Accuracy: 0.675676 Validation Accuracy: 0.515625\n",
      "Epoch 22, CIFAR-10 Batch 1:  Loss:     0.9984 Training Accuracy: 0.675676 Validation Accuracy: 0.564453\n",
      "Epoch 22, CIFAR-10 Batch 2:  Loss:     0.9658 Training Accuracy: 0.675676 Validation Accuracy: 0.533203\n",
      "Epoch 22, CIFAR-10 Batch 3:  Loss:     0.8797 Training Accuracy: 0.699324 Validation Accuracy: 0.541016\n",
      "Epoch 22, CIFAR-10 Batch 4:  Loss:     0.8518 Training Accuracy: 0.709459 Validation Accuracy: 0.554688\n",
      "Epoch 22, CIFAR-10 Batch 5:  Loss:     0.9538 Training Accuracy: 0.682432 Validation Accuracy: 0.509766\n",
      "Epoch 23, CIFAR-10 Batch 1:  Loss:     0.9636 Training Accuracy: 0.692568 Validation Accuracy: 0.541016\n",
      "Epoch 23, CIFAR-10 Batch 2:  Loss:     0.9658 Training Accuracy: 0.675676 Validation Accuracy: 0.527344\n",
      "Epoch 23, CIFAR-10 Batch 3:  Loss:     0.8112 Training Accuracy: 0.739865 Validation Accuracy: 0.537109\n",
      "Epoch 23, CIFAR-10 Batch 4:  Loss:     0.8471 Training Accuracy: 0.692568 Validation Accuracy: 0.533203\n",
      "Epoch 23, CIFAR-10 Batch 5:  Loss:     0.9414 Training Accuracy: 0.695946 Validation Accuracy: 0.511719\n",
      "Epoch 24, CIFAR-10 Batch 1:  Loss:     0.9692 Training Accuracy: 0.665541 Validation Accuracy: 0.537109\n",
      "Epoch 24, CIFAR-10 Batch 2:  Loss:     0.9283 Training Accuracy: 0.679054 Validation Accuracy: 0.535156\n",
      "Epoch 24, CIFAR-10 Batch 3:  Loss:     0.7919 Training Accuracy: 0.760135 Validation Accuracy: 0.519531\n",
      "Epoch 24, CIFAR-10 Batch 4:  Loss:     0.8259 Training Accuracy: 0.682432 Validation Accuracy: 0.548828\n",
      "Epoch 24, CIFAR-10 Batch 5:  Loss:     0.9517 Training Accuracy: 0.675676 Validation Accuracy: 0.517578\n",
      "Epoch 25, CIFAR-10 Batch 1:  Loss:     0.9889 Training Accuracy: 0.665541 Validation Accuracy: 0.552734\n",
      "Epoch 25, CIFAR-10 Batch 2:  Loss:     0.9197 Training Accuracy: 0.689189 Validation Accuracy: 0.537109\n",
      "Epoch 25, CIFAR-10 Batch 3:  Loss:     0.8149 Training Accuracy: 0.716216 Validation Accuracy: 0.546875\n",
      "Epoch 25, CIFAR-10 Batch 4:  Loss:     0.8021 Training Accuracy: 0.702703 Validation Accuracy: 0.539062\n",
      "Epoch 25, CIFAR-10 Batch 5:  Loss:     0.8989 Training Accuracy: 0.695946 Validation Accuracy: 0.552734\n",
      "Epoch 26, CIFAR-10 Batch 1:  Loss:     0.9305 Training Accuracy: 0.665541 Validation Accuracy: 0.550781\n",
      "Epoch 26, CIFAR-10 Batch 2:  Loss:     0.8816 Training Accuracy: 0.709459 Validation Accuracy: 0.544922\n",
      "Epoch 26, CIFAR-10 Batch 3:  Loss:     0.7644 Training Accuracy: 0.753378 Validation Accuracy: 0.527344\n",
      "Epoch 26, CIFAR-10 Batch 4:  Loss:     0.7571 Training Accuracy: 0.739865 Validation Accuracy: 0.535156\n",
      "Epoch 26, CIFAR-10 Batch 5:  Loss:     0.8937 Training Accuracy: 0.695946 Validation Accuracy: 0.533203\n",
      "Epoch 27, CIFAR-10 Batch 1:  Loss:     0.9243 Training Accuracy: 0.672297 Validation Accuracy: 0.531250\n",
      "Epoch 27, CIFAR-10 Batch 2:  Loss:     0.8799 Training Accuracy: 0.716216 Validation Accuracy: 0.548828\n",
      "Epoch 27, CIFAR-10 Batch 3:  Loss:     0.7332 Training Accuracy: 0.756757 Validation Accuracy: 0.523438\n",
      "Epoch 27, CIFAR-10 Batch 4:  Loss:     0.7603 Training Accuracy: 0.726351 Validation Accuracy: 0.527344\n",
      "Epoch 27, CIFAR-10 Batch 5:  Loss:     0.8735 Training Accuracy: 0.712838 Validation Accuracy: 0.537109\n",
      "Epoch 28, CIFAR-10 Batch 1:  Loss:     0.8981 Training Accuracy: 0.682432 Validation Accuracy: 0.552734\n",
      "Epoch 28, CIFAR-10 Batch 2:  Loss:     0.8665 Training Accuracy: 0.712838 Validation Accuracy: 0.560547\n",
      "Epoch 28, CIFAR-10 Batch 3:  Loss:     0.6964 Training Accuracy: 0.787162 Validation Accuracy: 0.535156\n",
      "Epoch 28, CIFAR-10 Batch 4:  Loss:     0.7150 Training Accuracy: 0.750000 Validation Accuracy: 0.541016\n",
      "Epoch 28, CIFAR-10 Batch 5:  Loss:     0.8288 Training Accuracy: 0.726351 Validation Accuracy: 0.531250\n",
      "Epoch 29, CIFAR-10 Batch 1:  Loss:     0.8312 Training Accuracy: 0.746622 Validation Accuracy: 0.554688\n",
      "Epoch 29, CIFAR-10 Batch 2:  Loss:     0.8239 Training Accuracy: 0.736486 Validation Accuracy: 0.566406\n",
      "Epoch 29, CIFAR-10 Batch 3:  Loss:     0.6812 Training Accuracy: 0.787162 Validation Accuracy: 0.533203\n",
      "Epoch 29, CIFAR-10 Batch 4:  Loss:     0.7073 Training Accuracy: 0.743243 Validation Accuracy: 0.558594\n",
      "Epoch 29, CIFAR-10 Batch 5:  Loss:     0.8103 Training Accuracy: 0.736486 Validation Accuracy: 0.533203\n",
      "Epoch 30, CIFAR-10 Batch 1:  Loss:     0.8150 Training Accuracy: 0.729730 Validation Accuracy: 0.562500\n",
      "Epoch 30, CIFAR-10 Batch 2:  Loss:     0.7909 Training Accuracy: 0.733108 Validation Accuracy: 0.570312\n",
      "Epoch 30, CIFAR-10 Batch 3:  Loss:     0.6629 Training Accuracy: 0.773649 Validation Accuracy: 0.527344\n",
      "Epoch 30, CIFAR-10 Batch 4:  Loss:     0.6850 Training Accuracy: 0.766892 Validation Accuracy: 0.550781\n",
      "Epoch 30, CIFAR-10 Batch 5:  Loss:     0.7825 Training Accuracy: 0.750000 Validation Accuracy: 0.554688\n"
     ]
    }
   ],
   "source": [
    "\"\"\"\n",
    "DON'T MODIFY ANYTHING IN THIS CELL\n",
    "\"\"\"\n",
    "save_model_path = './image_classification'\n",
    "\n",
    "print('Training...')\n",
    "with tf.Session() as sess:\n",
    "    # Initializing the variables\n",
    "    sess.run(tf.global_variables_initializer())\n",
    "    \n",
    "    # Training cycle\n",
    "    for epoch in range(epochs):\n",
    "        # Loop over all batches\n",
    "        n_batches = 5\n",
    "        for batch_i in range(1, n_batches + 1):\n",
    "            for batch_features, batch_labels in helper.load_preprocess_training_batch(batch_i, batch_size):\n",
    "                train_neural_network(sess, optimizer, keep_probability, batch_features, batch_labels)\n",
    "            print('Epoch {:>2}, CIFAR-10 Batch {}:  '.format(epoch + 1, batch_i), end='')\n",
    "            print_stats(sess, batch_features, batch_labels, cost, accuracy)\n",
    "            \n",
    "    # Save Model\n",
    "    saver = tf.train.Saver()\n",
    "    save_path = saver.save(sess, save_model_path)"
   ]
  },
  {
   "cell_type": "markdown",
   "metadata": {},
   "source": [
    "# Checkpoint\n",
    "The model has been saved to disk.\n",
    "## Test Model\n",
    "Test your model against the test dataset.  This will be your final accuracy. You should have an accuracy greater than 50%. If you don't, keep tweaking the model architecture and parameters."
   ]
  },
  {
   "cell_type": "code",
   "execution_count": 18,
   "metadata": {
    "collapsed": false
   },
   "outputs": [
    {
     "name": "stdout",
     "output_type": "stream",
     "text": [
      "Testing Accuracy: 0.5540900737047195\n",
      "\n"
     ]
    },
    {
     "data": {
      "image/png": "[encoded data removed]",
      "text/plain": [
       "<matplotlib.figure.Figure at 0x10f610c18>"
      ]
     },
     "metadata": {
      "image/png": {
       "height": 319,
       "width": 355
      }
     },
     "output_type": "display_data"
    }
   ],
   "source": [
    "\"\"\"\n",
    "DON'T MODIFY ANYTHING IN THIS CELL\n",
    "\"\"\"\n",
    "%matplotlib inline\n",
    "%config InlineBackend.figure_format = 'retina'\n",
    "\n",
    "import tensorflow as tf\n",
    "import pickle\n",
    "import helper\n",
    "import random\n",
    "\n",
    "# Set batch size if not already set\n",
    "try:\n",
    "    if batch_size:\n",
    "        pass\n",
    "except NameError:\n",
    "    batch_size = 64\n",
    "\n",
    "save_model_path = './image_classification'\n",
    "n_samples = 4\n",
    "top_n_predictions = 3\n",
    "\n",
    "def test_model():\n",
    "    \"\"\"\n",
    "    Test the saved model against the test dataset\n",
    "    \"\"\"\n",
    "\n",
    "    test_features, test_labels = pickle.load(open('preprocess_training.p', mode='rb'))\n",
    "    loaded_graph = tf.Graph()\n",
    "\n",
    "    with tf.Session(graph=loaded_graph) as sess:\n",
    "        # Load model\n",
    "        loader = tf.train.import_meta_graph(save_model_path + '.meta')\n",
    "        loader.restore(sess, save_model_path)\n",
    "\n",
    "        # Get Tensors from loaded model\n",
    "        loaded_x = loaded_graph.get_tensor_by_name('x:0')\n",
    "        loaded_y = loaded_graph.get_tensor_by_name('y:0')\n",
    "        loaded_keep_prob = loaded_graph.get_tensor_by_name('keep_prob:0')\n",
    "        loaded_logits = loaded_graph.get_tensor_by_name('logits:0')\n",
    "        loaded_acc = loaded_graph.get_tensor_by_name('accuracy:0')\n",
    "        \n",
    "        # Get accuracy in batches for memory limitations\n",
    "        test_batch_acc_total = 0\n",
    "        test_batch_count = 0\n",
    "        \n",
    "        for train_feature_batch, train_label_batch in helper.batch_features_labels(test_features, test_labels, batch_size):\n",
    "            test_batch_acc_total += sess.run(\n",
    "                loaded_acc,\n",
    "                feed_dict={loaded_x: train_feature_batch, loaded_y: train_label_batch, loaded_keep_prob: 1.0})\n",
    "            test_batch_count += 1\n",
    "\n",
    "        print('Testing Accuracy: {}\\n'.format(test_batch_acc_total/test_batch_count))\n",
    "\n",
    "        # Print Random Samples\n",
    "        random_test_features, random_test_labels = tuple(zip(*random.sample(list(zip(test_features, test_labels)), n_samples)))\n",
    "        random_test_predictions = sess.run(\n",
    "            tf.nn.top_k(tf.nn.softmax(loaded_logits), top_n_predictions),\n",
    "            feed_dict={loaded_x: random_test_features, loaded_y: random_test_labels, loaded_keep_prob: 1.0})\n",
    "        helper.display_image_predictions(random_test_features, random_test_labels, random_test_predictions)\n",
    "\n",
    "\n",
    "test_model()"
   ]
  },
  {
   "cell_type": "markdown",
   "metadata": {},
   "source": [
    "## Why 50-70% Accuracy?\n",
    "You might be wondering why you can't get an accuracy any higher. First things first, 50% isn't bad for a simple CNN.  Pure guessing would get you 10% accuracy. However, you might notice people are getting scores [well above 70%](http://rodrigob.github.io/are_we_there_yet/build/classification_datasets_results.html#43494641522d3130).  That's because we haven't taught you all there is to know about neural networks. We still need to cover a few more techniques.\n",
    "## Submitting This Project\n",
    "When submitting this project, make sure to run all the cells before saving the notebook.  Save the notebook file as \"dlnd_image_classification.ipynb\" and save it as a HTML file under \"File\" -> \"Download as\".  Include the \"helper.py\" and \"problem_unittests.py\" files in your submission."
   ]
  },
  {
   "cell_type": "code",
   "execution_count": null,
   "metadata": {
    "collapsed": true
   },
   "outputs": [],
   "source": []
  },
  {
   "cell_type": "code",
   "execution_count": null,
   "metadata": {
    "collapsed": true
   },
   "outputs": [],
   "source": []
  },
  {
   "cell_type": "code",
   "execution_count": null,
   "metadata": {
    "collapsed": true
   },
   "outputs": [],
   "source": []
  }
 ],
 "metadata": {
  "kernelspec": {
   "display_name": "Python 3",
   "language": "python",
   "name": "python3"
  },
  "language_info": {
   "codemirror_mode": {
    "name": "ipython",
    "version": 3
   },
   "file_extension": ".py",
   "mimetype": "text/x-python",
   "name": "python",
   "nbconvert_exporter": "python",
   "pygments_lexer": "ipython3",
   "version": "3.5.2"
  }
 },
 "nbformat": 4,
 "nbformat_minor": 0
}
